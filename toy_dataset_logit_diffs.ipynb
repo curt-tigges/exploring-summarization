{
 "cells": [
  {
   "cell_type": "code",
   "execution_count": 2,
   "id": "c4f66f6f",
   "metadata": {},
   "outputs": [],
   "source": [
    "import itertools\n",
    "import random\n",
    "import einops\n",
    "from functools import partial\n",
    "import numpy as np\n",
    "import torch\n",
    "import datasets\n",
    "import os\n",
    "import re\n",
    "import pickle\n",
    "from torch import Tensor\n",
    "from torch.utils.data import DataLoader\n",
    "from datasets import load_dataset, concatenate_datasets\n",
    "from jaxtyping import Float, Int, Bool\n",
    "from typing import Dict, Iterable, List, Tuple, Union, Literal, Optional\n",
    "from transformers import (\n",
    "    AutoModelForCausalLM,\n",
    "    AutoTokenizer,\n",
    ")\n",
    "from transformer_lens import HookedTransformer\n",
    "from transformer_lens.utils import (\n",
    "    get_dataset,\n",
    "    tokenize_and_concatenate,\n",
    "    get_act_name,\n",
    "    test_prompt,\n",
    "    get_attention_mask,\n",
    ")\n",
    "from transformer_lens.hook_points import HookPoint\n",
    "from tqdm.notebook import tqdm\n",
    "import pandas as pd\n",
    "from circuitsvis.activations import text_neuron_activations\n",
    "from circuitsvis.topk_samples import topk_samples\n",
    "from IPython.display import HTML, display\n",
    "import plotly.express as px\n",
    "import plotly.graph_objects as go\n",
    "from plotly.subplots import make_subplots\n",
    "from summarization_utils.patching_metrics import get_logit_diff\n",
    "from summarization_utils.tokenwise_ablation import (\n",
    "    compute_ablation_modified_loss,\n",
    "    load_directions,\n",
    "    get_random_directions,\n",
    "    get_zeroed_dir_vector,\n",
    "    get_layerwise_token_mean_activations,\n",
    "    ablation_hook_base,\n",
    "    AblationHook,\n",
    "    AblationHookIterator,\n",
    "    get_batch_token_mean_activations,\n",
    "    loss_fn,\n",
    "    DEFAULT_DEVICE,\n",
    ")\n",
    "from summarization_utils.datasets import (\n",
    "    OWTData,\n",
    "    PileFullData,\n",
    "    PileSplittedData,\n",
    "    HFData,\n",
    "    mask_positions,\n",
    "    construct_exclude_list,\n",
    ")\n",
    "from summarization_utils.neuroscope import plot_top_onesided\n",
    "from summarization_utils.store import ResultsFile, TensorBlockManager\n",
    "from summarization_utils.path_patching import act_patch, Node, IterNode, IterSeqPos\n",
    "\n",
    "from summarization_utils.visualization import get_attn_head_patterns, imshow_p, plot_attention_heads, scatter_attention_and_contribution_simple\n",
    "from summarization_utils.visualization import get_attn_pattern, plot_attention\n",
    "\n",
    "from summarization_utils.toy_datasets import (\n",
    "    CounterfactualDataset,\n",
    "    ToyDeductionTemplate,\n",
    "    ToyBindingTemplate,\n",
    "    ToyProfilesTemplate,\n",
    ")"
   ]
  },
  {
   "cell_type": "code",
   "execution_count": 3,
   "id": "0c223f2c",
   "metadata": {
    "lines_to_next_cell": 0
   },
   "outputs": [],
   "source": [
    "os.environ[\"TOKENIZERS_PARALLELISM\"] = \"false\"\n",
    "os.environ[\"CUDA_LAUNCH_BLOCKING\"] = \"1\"\n",
    "os.environ[\"TORCH_USE_CUDA_DSA\"] = \"1\"\n",
    "torch.set_grad_enabled(False)\n",
    "torch.manual_seed(0)\n",
    "random.seed(0)\n",
    "device = torch.device(\"cuda\") if torch.cuda.is_available() else torch.device(\"cpu\")\n",
    "model_checkpoint = \"EleutherAI/pythia-2.8b\""
   ]
  },
  {
   "cell_type": "code",
   "execution_count": 4,
   "id": "fba714cc",
   "metadata": {
    "lines_to_next_cell": 0
   },
   "outputs": [
    {
     "name": "stderr",
     "output_type": "stream",
     "text": [
      "Special tokens have been added in the vocabulary, make sure the associated word embeddings are fine-tuned or trained.\n"
     ]
    },
    {
     "name": "stdout",
     "output_type": "stream",
     "text": [
      "Loaded pretrained model EleutherAI/pythia-2.8b into HookedTransformer\n"
     ]
    }
   ],
   "source": [
    "model = HookedTransformer.from_pretrained(\n",
    "    model_checkpoint,\n",
    "    center_unembed=True,\n",
    "    center_writing_weights=True,\n",
    "    fold_ln=True,\n",
    "    refactor_factored_attn_matrices=False,\n",
    "    device=device,\n",
    ")\n",
    "#model = model.to(device)\n",
    "assert model.tokenizer is not None"
   ]
  },
  {
   "attachments": {},
   "cell_type": "markdown",
   "id": "195b2b5f",
   "metadata": {},
   "source": [
    "### Knowledge Dataset"
   ]
  },
  {
   "cell_type": "code",
   "execution_count": 5,
   "id": "6ff27d5e",
   "metadata": {},
   "outputs": [],
   "source": [
    "dataset_template = ToyDeductionTemplate(model, dataset_size=10, max=10)\n",
    "dataset = dataset_template.to_counterfactual()"
   ]
  },
  {
   "cell_type": "code",
   "execution_count": 6,
   "id": "921c9daf",
   "metadata": {},
   "outputs": [
    {
     "name": "stdout",
     "output_type": "stream",
     "text": [
      "Original mean: 5.54\n",
      "Counterfactual mean: -6.09\n"
     ]
    }
   ],
   "source": [
    "all_logit_diffs, cf_logit_diffs = dataset.compute_logit_diffs()\n",
    "print(f\"Original mean: {all_logit_diffs.mean():.2f}\")\n",
    "print(f\"Counterfactual mean: {cf_logit_diffs.mean():.2f}\")"
   ]
  },
  {
   "cell_type": "code",
   "execution_count": 7,
   "id": "ea1bbe3d",
   "metadata": {},
   "outputs": [
    {
     "name": "stdout",
     "output_type": "stream",
     "text": [
      "(14, 14, ['<|endoftext|>', 'Sarah', ' is', ' a', ' bear', '.', ' Bears', ' are', ' young', '.', ' Therefore', ',', ' Sarah', ' is'], ['<|endoftext|>', 'Sarah', ' is', ' a', ' bear', '.', ' Bears', ' are', ' old', '.', ' Therefore', ',', ' Sarah', ' is'])\n",
      "(14, 14, ['<|endoftext|>', 'Josh', ' is', ' a', ' tiger', '.', ' Tigers', ' are', ' dumb', '.', ' Therefore', ',', ' Josh', ' is'], ['<|endoftext|>', 'Josh', ' is', ' a', ' tiger', '.', ' Tigers', ' are', ' rich', '.', ' Therefore', ',', ' Josh', ' is'])\n",
      "(14, 14, ['<|endoftext|>', 'Bob', ' is', ' a', ' writer', '.', ' Writers', ' are', ' dumb', '.', ' Therefore', ',', ' Bob', ' is'], ['<|endoftext|>', 'Bob', ' is', ' a', ' writer', '.', ' Writers', ' are', ' rich', '.', ' Therefore', ',', ' Bob', ' is'])\n",
      "(14, 14, ['<|endoftext|>', 'Sarah', ' is', ' a', ' dog', '.', ' Dogs', ' are', ' poor', '.', ' Therefore', ',', ' Sarah', ' is'], ['<|endoftext|>', 'Sarah', ' is', ' a', ' dog', '.', ' Dogs', ' are', ' happy', '.', ' Therefore', ',', ' Sarah', ' is'])\n",
      "(14, 14, ['<|endoftext|>', 'Sarah', ' is', ' a', ' dog', '.', ' Dogs', ' are', ' black', '.', ' Therefore', ',', ' Sarah', ' is'], ['<|endoftext|>', 'Sarah', ' is', ' a', ' dog', '.', ' Dogs', ' are', ' white', '.', ' Therefore', ',', ' Sarah', ' is'])\n",
      "(14, 14, ['<|endoftext|>', 'Peter', ' is', ' a', ' human', '.', ' Humans', ' are', ' brown', '.', ' Therefore', ',', ' Peter', ' is'], ['<|endoftext|>', 'Peter', ' is', ' a', ' human', '.', ' Humans', ' are', ' grey', '.', ' Therefore', ',', ' Peter', ' is'])\n",
      "(14, 14, ['<|endoftext|>', 'Mike', ' is', ' a', ' scientist', '.', ' Scientists', ' are', ' orange', '.', ' Therefore', ',', ' Mike', ' is'], ['<|endoftext|>', 'Mike', ' is', ' a', ' scientist', '.', ' Scientists', ' are', ' purple', '.', ' Therefore', ',', ' Mike', ' is'])\n",
      "(14, 14, ['<|endoftext|>', 'Anne', ' is', ' a', ' scientist', '.', ' Scientists', ' are', ' green', '.', ' Therefore', ',', ' Anne', ' is'], ['<|endoftext|>', 'Anne', ' is', ' a', ' scientist', '.', ' Scientists', ' are', ' yellow', '.', ' Therefore', ',', ' Anne', ' is'])\n",
      "(14, 14, ['<|endoftext|>', 'Bob', ' is', ' a', ' teacher', '.', ' Teachers', ' are', ' black', '.', ' Therefore', ',', ' Bob', ' is'], ['<|endoftext|>', 'Bob', ' is', ' a', ' teacher', '.', ' Teachers', ' are', ' white', '.', ' Therefore', ',', ' Bob', ' is'])\n",
      "(14, 14, ['<|endoftext|>', 'Tom', ' is', ' a', ' scientist', '.', ' Scientists', ' are', ' orange', '.', ' Therefore', ',', ' Tom', ' is'], ['<|endoftext|>', 'Tom', ' is', ' a', ' scientist', '.', ' Scientists', ' are', ' purple', '.', ' Therefore', ',', ' Tom', ' is'])\n"
     ]
    }
   ],
   "source": [
    "for i in range(dataset.prompt_tokens.shape[0]):\n",
    "    print((len(dataset.prompt_tokens[i]), len(dataset.cf_tokens[i]), model.to_str_tokens(dataset.prompt_tokens[i]), model.to_str_tokens(dataset.cf_tokens[i])))"
   ]
  },
  {
   "cell_type": "code",
   "execution_count": 71,
   "id": "7d4eb42f",
   "metadata": {},
   "outputs": [
    {
     "name": "stdout",
     "output_type": "stream",
     "text": [
      "human\n",
      "[' human']\n",
      "[' Humans']\n",
      "dog\n",
      "[' dog']\n",
      "[' Dogs']\n",
      "bird\n",
      "[' bird']\n",
      "[' Birds']\n",
      "skunk\n",
      "[' sk', 'unk']\n",
      "[' Sk', 'unks']\n",
      "badger\n",
      "[' bad', 'ger']\n",
      "[' Bad', 'gers']\n",
      "bear\n",
      "[' bear']\n",
      "[' Bears']\n",
      "lion\n",
      "[' lion']\n",
      "[' Lions']\n",
      "tiger\n",
      "[' tiger']\n",
      "[' Tigers']\n",
      "wolf\n",
      "[' wolf']\n",
      "[' Wol', 'fs']\n",
      "plant\n",
      "[' plant']\n",
      "[' Plants']\n",
      "flower\n",
      "[' flower']\n",
      "[' Flowers']\n",
      "doctor\n",
      "[' doctor']\n",
      "[' Doctors']\n",
      "teacher\n",
      "[' teacher']\n",
      "[' Teachers']\n",
      "scientist\n",
      "[' scientist']\n",
      "[' Scientists']\n",
      "engineer\n",
      "[' engineer']\n",
      "[' Engineers']\n",
      "writer\n",
      "[' writer']\n",
      "[' Writers']\n",
      "artist\n",
      "[' artist']\n",
      "[' Artists']\n"
     ]
    }
   ],
   "source": [
    "for name in GROUPS_DRAFT:\n",
    "    print(name)\n",
    "    print(model.to_str_tokens(' ' + name, prepend_bos=False))\n",
    "    print(model.to_str_tokens(' ' + name.capitalize()+'s', prepend_bos=False))\n"
   ]
  },
  {
   "cell_type": "code",
   "execution_count": 8,
   "id": "5a537c48",
   "metadata": {},
   "outputs": [
    {
     "data": {
      "text/plain": [
       "(tensor(5.5402, device='cuda:0'),\n",
       " tensor([ 1.4736, 10.4478,  5.6007,  4.6531,  4.2388,  7.8997,  6.0910,  5.6427,\n",
       "          2.9926,  6.3620], device='cuda:0'))"
      ]
     },
     "execution_count": 8,
     "metadata": {},
     "output_type": "execute_result"
    }
   ],
   "source": [
    "all_logit_diffs.mean(), all_logit_diffs\n"
   ]
  },
  {
   "cell_type": "code",
   "execution_count": 17,
   "id": "2ace3059",
   "metadata": {},
   "outputs": [
    {
     "data": {
      "text/plain": [
       "(tensor(5.5402, device='cuda:0'), tensor(5.5402, device='cuda:0'))"
      ]
     },
     "execution_count": 17,
     "metadata": {},
     "output_type": "execute_result"
    }
   ],
   "source": [
    "orig_logits, orig_cache = model.run_with_cache(dataset.prompt_tokens)\n",
    "orig_logit_diff = get_logit_diff(orig_logits, dataset.answer_tokens, per_prompt=False)\n",
    "orig_logit_diff.mean(), orig_logit_diff"
   ]
  },
  {
   "cell_type": "code",
   "execution_count": 18,
   "id": "630041bd",
   "metadata": {},
   "outputs": [
    {
     "data": {
      "text/plain": [
       "(tensor(-6.0885, device='cuda:0'),\n",
       " tensor([ -3.5009,  -8.3291,  -8.2849, -13.0953,  -4.5020,  -4.2402,  -6.1258,\n",
       "          -3.3234,  -3.3099,  -6.1731], device='cuda:0'))"
      ]
     },
     "execution_count": 18,
     "metadata": {},
     "output_type": "execute_result"
    }
   ],
   "source": [
    "cf_logit_diffs.mean(), cf_logit_diffs"
   ]
  },
  {
   "cell_type": "code",
   "execution_count": 19,
   "id": "72b25500",
   "metadata": {},
   "outputs": [
    {
     "data": {
      "text/plain": [
       "(tensor(-6.0885, device='cuda:0'), tensor(-6.0885, device='cuda:0'))"
      ]
     },
     "execution_count": 19,
     "metadata": {},
     "output_type": "execute_result"
    }
   ],
   "source": [
    "flip_logits, flip_cache = model.run_with_cache(dataset.cf_tokens)\n",
    "flip_logit_diff = get_logit_diff(flip_logits, dataset.answer_tokens, per_prompt=False)\n",
    "flip_logit_diff.mean(), flip_logit_diff"
   ]
  },
  {
   "cell_type": "code",
   "execution_count": 13,
   "id": "96247740",
   "metadata": {},
   "outputs": [
    {
     "name": "stdout",
     "output_type": "stream",
     "text": [
      "Tokenized prompt: ['<|endoftext|>', '<|endoftext|>', 'Peter', ' is', ' a', ' human', '.', ' Humans', ' are', ' brown', '.', ' Therefore', ',', ' Peter', ' is']\n",
      "Tokenized answer: [' brown']\n"
     ]
    },
    {
     "data": {
      "text/html": [
       "<pre style=\"white-space:pre;overflow-x:auto;line-height:normal;font-family:Menlo,'DejaVu Sans Mono',consolas,'Courier New',monospace\">Performance on answer token:\n",
       "<span style=\"font-weight: bold\">Rank: </span><span style=\"color: #008080; text-decoration-color: #008080; font-weight: bold\">1</span><span style=\"font-weight: bold\">        Logit: </span><span style=\"color: #008080; text-decoration-color: #008080; font-weight: bold\">16.18</span><span style=\"font-weight: bold\"> Prob: </span><span style=\"color: #008080; text-decoration-color: #008080; font-weight: bold\">23.11</span><span style=\"font-weight: bold\">% Token: | brown|</span>\n",
       "</pre>\n"
      ],
      "text/plain": [
       "Performance on answer token:\n",
       "\u001b[1mRank: \u001b[0m\u001b[1;36m1\u001b[0m\u001b[1m        Logit: \u001b[0m\u001b[1;36m16.18\u001b[0m\u001b[1m Prob: \u001b[0m\u001b[1;36m23.11\u001b[0m\u001b[1m% Token: | brown|\u001b[0m\n"
      ]
     },
     "metadata": {},
     "output_type": "display_data"
    },
    {
     "name": "stdout",
     "output_type": "stream",
     "text": [
      "Top 0th token. Logit: 16.60 Prob: 35.05% Token: | a|\n",
      "Top 1th token. Logit: 16.18 Prob: 23.11% Token: | brown|\n",
      "Top 2th token. Logit: 15.61 Prob: 13.08% Token: | not|\n",
      "Top 3th token. Logit: 14.76 Prob:  5.57% Token: | human|\n",
      "Top 4th token. Logit: 14.38 Prob:  3.83% Token: | also|\n",
      "Top 5th token. Logit: 13.48 Prob:  1.54% Token: | black|\n",
      "Top 6th token. Logit: 13.38 Prob:  1.41% Token: | an|\n",
      "Top 7th token. Logit: 12.66 Prob:  0.68% Token: | white|\n",
      "Top 8th token. Logit: 12.60 Prob:  0.64% Token: | the|\n",
      "Top 9th token. Logit: 12.42 Prob:  0.54% Token: | probably|\n"
     ]
    },
    {
     "data": {
      "text/html": [
       "<pre style=\"white-space:pre;overflow-x:auto;line-height:normal;font-family:Menlo,'DejaVu Sans Mono',consolas,'Courier New',monospace\"><span style=\"font-weight: bold\">Ranks of the answer tokens:</span> <span style=\"font-weight: bold\">[(</span><span style=\"color: #008000; text-decoration-color: #008000\">' brown'</span>, <span style=\"color: #008080; text-decoration-color: #008080; font-weight: bold\">1</span><span style=\"font-weight: bold\">)]</span>\n",
       "</pre>\n"
      ],
      "text/plain": [
       "\u001b[1mRanks of the answer tokens:\u001b[0m \u001b[1m[\u001b[0m\u001b[1m(\u001b[0m\u001b[32m' brown'\u001b[0m, \u001b[1;36m1\u001b[0m\u001b[1m)\u001b[0m\u001b[1m]\u001b[0m\n"
      ]
     },
     "metadata": {},
     "output_type": "display_data"
    }
   ],
   "source": [
    "test_prompt(model.to_string(dataset.prompt_tokens[5]), model.to_string(dataset.answer_tokens[5][0]), model, top_k=10)"
   ]
  },
  {
   "cell_type": "code",
   "execution_count": 20,
   "id": "a440267e",
   "metadata": {},
   "outputs": [],
   "source": [
    "def logit_diff_denoising(\n",
    "    logits: Float[Tensor, \"batch seq d_vocab\"],\n",
    "    answer_tokens: Float[Tensor, \"batch n_pairs 2\"] = dataset.answer_tokens,\n",
    "    flipped_logit_diff: float = flip_logit_diff,\n",
    "    clean_logit_diff: float = orig_logit_diff,\n",
    "    return_tensor: bool = False,\n",
    ") -> Float[Tensor, \"\"]:\n",
    "    '''\n",
    "    Linear function of logit diff, calibrated so that it equals 0 when performance is\n",
    "    same as on flipped input, and 1 when performance is same as on clean input.\n",
    "    '''\n",
    "    patched_logit_diff = get_logit_diff(logits, answer_tokens)\n",
    "    ld = ((patched_logit_diff - flipped_logit_diff) / (clean_logit_diff  - flipped_logit_diff))\n",
    "    if return_tensor:\n",
    "        return ld\n",
    "    else:\n",
    "        return ld.item()\n",
    "\n",
    "\n",
    "def logit_diff_noising(\n",
    "        logits: Float[Tensor, \"batch seq d_vocab\"],\n",
    "        clean_logit_diff: float = orig_logit_diff,\n",
    "        corrupted_logit_diff: float = flip_logit_diff,\n",
    "        answer_tokens: Float[Tensor, \"batch n_pairs 2\"] = dataset.answer_tokens,\n",
    "        return_tensor: bool = False,\n",
    "    ) -> float:\n",
    "        '''\n",
    "        We calibrate this so that the value is 0 when performance isn't harmed (i.e. same as IOI dataset),\n",
    "        and -1 when performance has been destroyed (i.e. is same as ABC dataset).\n",
    "        '''\n",
    "        patched_logit_diff = get_logit_diff(logits, answer_tokens)\n",
    "        ld = ((patched_logit_diff - clean_logit_diff) / (clean_logit_diff - corrupted_logit_diff))\n",
    "\n",
    "        if return_tensor:\n",
    "            return ld\n",
    "        else:\n",
    "            return ld.item()"
   ]
  },
  {
   "cell_type": "code",
   "execution_count": 21,
   "id": "e98b0e39",
   "metadata": {},
   "outputs": [
    {
     "data": {
      "application/vnd.jupyter.widget-view+json": {
       "model_id": "533be47ddec547e1b0553f51f28c140a",
       "version_major": 2,
       "version_minor": 0
      },
      "text/plain": [
       "  0%|          | 0/1344 [00:00<?, ?it/s]"
      ]
     },
     "metadata": {},
     "output_type": "display_data"
    },
    {
     "name": "stdout",
     "output_type": "stream",
     "text": [
      "results['resid_pre'].shape = (seq_pos=14, layer=32)\n",
      "results['attn_out'].shape = (seq_pos=14, layer=32)\n",
      "results['mlp_out'].shape = (seq_pos=14, layer=32)\n"
     ]
    }
   ],
   "source": [
    "# patching at each (layer, sequence position) for each of (resid_pre, attn_out, mlp_out) in turn\n",
    "\n",
    "results = act_patch(\n",
    "    model=model,\n",
    "    orig_input=dataset.cf_tokens,\n",
    "    new_cache=orig_cache,\n",
    "    patching_nodes=IterNode([\"resid_pre\", \"attn_out\", \"mlp_out\"], seq_pos=\"each\"),\n",
    "    patching_metric=logit_diff_denoising,\n",
    "    verbose=True,\n",
    ")\n",
    "with open(\"results/tensors/2_8b_comma_test/content_act_patch_resid_layer_output.pkl\", \"wb\") as f:\n",
    "    pickle.dump(results, f)"
   ]
  },
  {
   "cell_type": "code",
   "execution_count": 23,
   "id": "ecb2302b",
   "metadata": {},
   "outputs": [
    {
     "data": {
      "application/vnd.plotly.v1+json": {
       "config": {
        "plotlyServerURL": "https://plot.ly"
       },
       "data": [
        {
         "coloraxis": "coloraxis",
         "hovertemplate": "Sequence position: %{x}<br>Layer: %{y}<br>Logit diff variation: %{z}<extra></extra>",
         "name": "0",
         "type": "heatmap",
         "x": [
          "<|endoftext|> 0",
          "Sarah 1",
          " is 2",
          " a 3",
          " bear 4",
          ". 5",
          " Bears 6",
          " are 7",
          " young 8",
          ". 9",
          " Therefore 10",
          ", 11",
          " Sarah 12",
          " is 13"
         ],
         "xaxis": "x",
         "yaxis": "y",
         "z": [
          [
           0,
           0,
           0,
           0,
           0,
           0,
           0,
           0,
           100,
           0,
           0,
           0,
           0,
           0
          ],
          [
           0,
           0,
           0,
           0,
           0,
           0,
           0,
           0,
           99.9382553100586,
           -0.07790599018335342,
           -0.07525704801082611,
           0.0017796304309740663,
           -0.008098548278212547,
           -0.00718002999201417
          ],
          [
           0,
           0,
           0,
           0,
           0,
           0,
           0,
           0,
           99.89396667480469,
           0.03318149596452713,
           -0.14091885089874268,
           -0.008992464281618595,
           -0.0028457685839384794,
           0.01644722931087017
          ],
          [
           0,
           0,
           0,
           0,
           0,
           0,
           0,
           0,
           99.71531677246094,
           0.06042132154107094,
           -0.2661900520324707,
           -0.014770112931728363,
           -0.024562180042266846,
           -0.013687572441995144
          ],
          [
           0,
           0,
           0,
           0,
           0,
           0,
           0,
           0,
           99.7176284790039,
           0.060261402279138565,
           -0.0696762204170227,
           -0.015664028003811836,
           -0.022520115599036217,
           0.0032763241324573755
          ],
          [
           0,
           0,
           0,
           0,
           0,
           0,
           0,
           0,
           99.57461547851562,
           0.32604551315307617,
           0.12228602916002274,
           0.006093388888984919,
           -0.027498159557580948,
           0.014917731285095215
          ],
          [
           0,
           0,
           0,
           0,
           0,
           0,
           0,
           0,
           99.42082214355469,
           0.5806105732917786,
           0.3950369656085968,
           0.10965640097856522,
           -0.09390215575695038,
           0.20799943804740906
          ],
          [
           0,
           0,
           0,
           0,
           0,
           0,
           0,
           0,
           99.44266510009766,
           0.5086708664894104,
           0.3725455403327942,
           0.08370824158191681,
           -0.06643680483102798,
           0.2729477286338806
          ],
          [
           0,
           0,
           0,
           0,
           0,
           0,
           0,
           0,
           99.6575927734375,
           0.6653562784194946,
           0.33805185556411743,
           0.09617385268211365,
           -0.08415109664201736,
           0.15077652037143707
          ],
          [
           0,
           0,
           0,
           0,
           0,
           0,
           0,
           0,
           99.96049499511719,
           0.3599323034286499,
           0.2962469458580017,
           0.17654836177825928,
           0.031270649284124374,
           0.21100102365016937
          ],
          [
           0,
           0,
           0,
           0,
           0,
           0,
           0,
           0,
           100.34786224365234,
           0.3365100622177124,
           0.3871147334575653,
           0.2627210319042206,
           0.14731568098068237,
           -0.15063299238681793
          ],
          [
           0,
           0,
           0,
           0,
           0,
           0,
           0,
           0,
           94.79679107666016,
           2.3414523601531982,
           1.5005072355270386,
           0.893058717250824,
           0.2614908516407013,
           2.6724636554718018
          ],
          [
           0,
           0,
           0,
           0,
           0,
           0,
           0,
           0,
           95.96065521240234,
           2.9464776515960693,
           1.5656769275665283,
           0.8969419598579407,
           0.2449370175600052,
           1.9957406520843506
          ],
          [
           0,
           0,
           0,
           0,
           0,
           0,
           0,
           0,
           93.61810302734375,
           1.0372334718704224,
           1.531113624572754,
           0.8064185976982117,
           0.6990625858306885,
           4.165159702301025
          ],
          [
           0,
           0,
           0,
           0,
           0,
           0,
           0,
           0,
           75.57487487792969,
           1.516109824180603,
           1.917527198791504,
           0.9647237062454224,
           0.7630800604820251,
           17.203855514526367
          ],
          [
           0,
           0,
           0,
           0,
           0,
           0,
           0,
           0,
           73.9727554321289,
           1.5266194343566895,
           1.426656723022461,
           0.9339450597763062,
           1.1364293098449707,
           18.512287139892578
          ],
          [
           0,
           0,
           0,
           0,
           0,
           0,
           0,
           0,
           68.32259368896484,
           1.675854206085205,
           1.4496033191680908,
           0.908160924911499,
           1.114450454711914,
           20.772348403930664
          ],
          [
           0,
           0,
           0,
           0,
           0,
           0,
           0,
           0,
           52.60623550415039,
           1.776604175567627,
           1.7413314580917358,
           1.1671587228775024,
           1.2178822755813599,
           34.32436752319336
          ],
          [
           0,
           0,
           0,
           0,
           0,
           0,
           0,
           0,
           37.3798828125,
           1.820135474205017,
           1.0996721982955933,
           1.1693115234375,
           1.2121907472610474,
           52.23384094238281
          ],
          [
           0,
           0,
           0,
           0,
           0,
           0,
           0,
           0,
           28.69768714904785,
           1.8610587120056152,
           1.2342966794967651,
           1.4266977310180664,
           1.3750392198562622,
           61.63258361816406
          ],
          [
           0,
           0,
           0,
           0,
           0,
           0,
           0,
           0,
           25.965272903442383,
           1.838710904121399,
           1.2373802661895752,
           1.3991708755493164,
           1.3112801313400269,
           63.83676528930664
          ],
          [
           0,
           0,
           0,
           0,
           0,
           0,
           0,
           0,
           22.77190589904785,
           1.6704659461975098,
           1.2468935251235962,
           1.4036363363265991,
           1.446101427078247,
           67.64654541015625
          ],
          [
           0,
           0,
           0,
           0,
           0,
           0,
           0,
           0,
           16.0297908782959,
           1.6445178985595703,
           1.2374787330627441,
           1.4416974782943726,
           1.5029553174972534,
           75.26224517822266
          ],
          [
           0,
           0,
           0,
           0,
           0,
           0,
           0,
           0,
           11.76795768737793,
           1.4262303113937378,
           1.1388527154922485,
           1.3843392133712769,
           1.2654074430465698,
           81.38990783691406
          ],
          [
           0,
           0,
           0,
           0,
           0,
           0,
           0,
           0,
           8.833532333374023,
           1.4809722900390625,
           1.0947924852371216,
           1.4162209033966064,
           1.1067209243774414,
           85.02896881103516
          ],
          [
           0,
           0,
           0,
           0,
           0,
           0,
           0,
           0,
           7.419549465179443,
           1.4359033107757568,
           1.042986512184143,
           1.3206579685211182,
           0.8783254623413086,
           88.03186798095703
          ],
          [
           0,
           0,
           0,
           0,
           0,
           0,
           0,
           0,
           6.222896099090576,
           1.4497263431549072,
           0.9223160147666931,
           1.302718162536621,
           0.8502737879753113,
           89.37894439697266
          ],
          [
           0,
           0,
           0,
           0,
           0,
           0,
           0,
           0,
           5.545697212219238,
           1.424147129058838,
           0.9286636710166931,
           1.291425347328186,
           0.8576177954673767,
           89.02066040039062
          ],
          [
           0,
           0,
           0,
           0,
           0,
           0,
           0,
           0,
           4.506392955780029,
           0.9956663250923157,
           0.9092926979064941,
           1.1993601322174072,
           0.38619622588157654,
           91.05125427246094
          ],
          [
           0,
           0,
           0,
           0,
           0,
           0,
           0,
           0,
           4.053186416625977,
           0.8151609301567078,
           0.6249332427978516,
           1.1376676559448242,
           0.3814723789691925,
           92.25699615478516
          ],
          [
           0,
           0,
           0,
           0,
           0,
           0,
           0,
           0,
           -0.06446854770183563,
           0.48809847235679626,
           0.4712739884853363,
           1.0861403942108154,
           0.40398022532463074,
           97.33926391601562
          ],
          [
           0,
           0,
           0,
           0,
           0,
           0,
           0,
           0,
           -0.008225665427744389,
           0.25242868065834045,
           0.0775984525680542,
           0.22816993296146393,
           0.12001843750476837,
           99.31999206542969
          ]
         ]
        },
        {
         "coloraxis": "coloraxis",
         "hovertemplate": "Sequence position: %{x}<br>Layer: %{y}<br>Logit diff variation: %{z}<extra></extra>",
         "name": "1",
         "type": "heatmap",
         "x": [
          "<|endoftext|> 0",
          "Sarah 1",
          " is 2",
          " a 3",
          " bear 4",
          ". 5",
          " Bears 6",
          " are 7",
          " young 8",
          ". 9",
          " Therefore 10",
          ", 11",
          " Sarah 12",
          " is 13"
         ],
         "xaxis": "x2",
         "yaxis": "y2",
         "z": [
          [
           0,
           0,
           0,
           0,
           0,
           0,
           0,
           0,
           0.7647900581359863,
           -0.07790599018335342,
           -0.07525704801082611,
           0.0017796304309740663,
           -0.008098548278212547,
           -0.00718002999201417
          ],
          [
           0,
           0,
           0,
           0,
           0,
           0,
           0,
           0,
           0.5578280687332153,
           0.07158707082271576,
           -0.07081616669893265,
           -0.012194979004561901,
           0.018058737739920616,
           0.018247362226247787
          ],
          [
           0,
           0,
           0,
           0,
           0,
           0,
           0,
           0,
           0.15655827522277832,
           0.029790358617901802,
           -0.11462623625993729,
           -0.006122092716395855,
           -0.023430433124303818,
           -0.0332799106836319
          ],
          [
           0,
           0,
           0,
           0,
           0,
           0,
           0,
           0,
           0.15145720541477203,
           0.01048915833234787,
           0.1842532604932785,
           -0.0018493394600227475,
           0.0046623037196695805,
           0.03200874477624893
          ],
          [
           0,
           0,
           0,
           0,
           0,
           0,
           0,
           0,
           -0.6786132454872131,
           0.2569597661495209,
           0.16809305548667908,
           0.008865348063409328,
           -0.0034936522133648396,
           0.014032017439603806
          ],
          [
           0,
           0,
           0,
           0,
           0,
           0,
           0,
           0,
           0.8886095881462097,
           0.6578645706176758,
           0.46038302779197693,
           0.07863998413085938,
           -0.07393667101860046,
           0.2026195377111435
          ],
          [
           0,
           0,
           0,
           0,
           0,
           0,
           0,
           0,
           0.14824649691581726,
           -0.012559927068650723,
           0.021064426749944687,
           0.0007462966023012996,
           -0.016344714909791946,
           0.12988021969795227
          ],
          [
           0,
           0,
           0,
           0,
           0,
           0,
           0,
           0,
           -0.0567595474421978,
           0.014302651397883892,
           -0.06451775878667831,
           0.02628440223634243,
           -0.060536134988069534,
           -0.16830219328403473
          ],
          [
           0,
           0,
           0,
           0,
           0,
           0,
           0,
           0,
           -0.04273573309183121,
           0.07603204250335693,
           -0.017599478363990784,
           0.08537305146455765,
           0.045540496706962585,
           0.03402620553970337
          ],
          [
           0,
           0,
           0,
           0,
           0,
           0,
           0,
           0,
           -0.7456610202789307,
           0.2609741985797882,
           0.04836165904998779,
           0.05293375626206398,
           0.07672913372516632,
           -0.24472789466381073
          ],
          [
           0,
           0,
           0,
           0,
           0,
           0,
           0,
           0,
           -0.3774866759777069,
           1.2693194150924683,
           0.8560965657234192,
           0.4497380554676056,
           0.23277483880519867,
           2.444248676300049
          ],
          [
           0,
           0,
           0,
           0,
           0,
           0,
           0,
           0,
           -0.18116556107997894,
           0.15715694427490234,
           0.10936936736106873,
           0.07937807589769363,
           -0.006868388969451189,
           -0.8144433498382568
          ],
          [
           0,
           0,
           0,
           0,
           0,
           0,
           0,
           0,
           0.9574616551399231,
           0.26650989055633545,
           0.6478511095046997,
           0.3532853424549103,
           0.5560073852539062,
           3.490995168685913
          ],
          [
           0,
           0,
           0,
           0,
           0,
           0,
           0,
           0,
           0.21913647651672363,
           0.1479184478521347,
           0.4225105047225952,
           0.2920849323272705,
           0.14184147119522095,
           13.842219352722168
          ],
          [
           0,
           0,
           0,
           0,
           0,
           0,
           0,
           0,
           0.2734644114971161,
           0.3447152078151703,
           0.47765442728996277,
           0.2652633488178253,
           0.33636245131492615,
           -1.4539457559585571
          ],
          [
           0,
           0,
           0,
           0,
           0,
           0,
           0,
           0,
           0.29979801177978516,
           0.1510307490825653,
           0.04304327443242073,
           0.04125954210758209,
           0.26393476128578186,
           1.8869986534118652
          ],
          [
           0,
           0,
           0,
           0,
           0,
           0,
           0,
           0,
           -0.0639764815568924,
           0.27883198857307434,
           0.2097257673740387,
           0.28729140758514404,
           0.11675851047039032,
           12.190062522888184
          ],
          [
           0,
           0,
           0,
           0,
           0,
           0,
           0,
           0,
           0.540773868560791,
           0.40921658277511597,
           0.23395989835262299,
           0.3412133753299713,
           0.3559998869895935,
           17.337467193603516
          ],
          [
           0,
           0,
           0,
           0,
           0,
           0,
           0,
           0,
           -0.002759657334536314,
           0.21328912675380707,
           0.24074216187000275,
           0.29639866948127747,
           0.16908539831638336,
           7.831235408782959
          ],
          [
           0,
           0,
           0,
           0,
           0,
           0,
           0,
           0,
           0.09881049394607544,
           0.0446670837700367,
           0.034534670412540436,
           -0.0021158738527446985,
           0.01851799711585045,
           0.9252806901931763
          ],
          [
           0,
           0,
           0,
           0,
           0,
           0,
           0,
           0,
           0.1689910739660263,
           0.1406400054693222,
           0.09807649999856949,
           0.09292623400688171,
           0.21086980402469635,
           0.1975676715373993
          ],
          [
           0,
           0,
           0,
           0,
           0,
           0,
           0,
           0,
           -0.19163011014461517,
           0.2468847632408142,
           0.1562507301568985,
           0.19453738629817963,
           0.13455481827259064,
           6.379380702972412
          ],
          [
           0,
           0,
           0,
           0,
           0,
           0,
           0,
           0,
           0.13066750764846802,
           0.14517518877983093,
           0.09507080912590027,
           0.12394675612449646,
           0.08221564441919327,
           5.732833385467529
          ],
          [
           0,
           0,
           0,
           0,
           0,
           0,
           0,
           0,
           -0.0020133606158196926,
           0.0756630003452301,
           0.05203574150800705,
           0.06078216806054115,
           0.026345910504460335,
           3.1977415084838867
          ],
          [
           0,
           0,
           0,
           0,
           0,
           0,
           0,
           0,
           0.04155068099498749,
           0.08777596801519394,
           0.044359542429447174,
           0.05899843946099281,
           0.0626315101981163,
           2.553962469100952
          ],
          [
           0,
           0,
           0,
           0,
           0,
           0,
           0,
           0,
           0.022696439176797867,
           0.044236525893211365,
           0.01765688695013523,
           0.02035093493759632,
           0.014183735474944115,
           1.3734235763549805
          ],
          [
           0,
           0,
           0,
           0,
           0,
           0,
           0,
           0,
           0.008180559612810612,
           -0.049460604786872864,
           0.01084180362522602,
           -0.010046301409602165,
           -0.01617659442126751,
           -0.9544846415519714
          ],
          [
           0,
           0,
           0,
           0,
           0,
           0,
           0,
           0,
           0.28458094596862793,
           0.016246303915977478,
           0.08207212388515472,
           0.08208442479372025,
           0.011629105545580387,
           2.9268155097961426
          ],
          [
           0,
           0,
           0,
           0,
           0,
           0,
           0,
           0,
           0.18440908193588257,
           -0.018723024055361748,
           0.04695107787847519,
           0.04773838073015213,
           0.002882673405110836,
           2.2649405002593994
          ],
          [
           0,
           0,
           0,
           0,
           0,
           0,
           0,
           0,
           -0.0024562180042266846,
           0.01675887033343315,
           0.028170648962259293,
           0.05810452252626419,
           -0.002206085715442896,
           4.531300067901611
          ],
          [
           0,
           0,
           0,
           0,
           0,
           0,
           0,
           0,
           -0.005437303800135851,
           0.003805292770266533,
           0.002866271184757352,
           0.004043123219162226,
           0.002636641263961792,
           2.4887681007385254
          ],
          [
           0,
           0,
           0,
           0,
           0,
           0,
           0,
           0,
           0,
           0,
           0,
           0,
           0,
           0.9088006615638733
          ]
         ]
        },
        {
         "coloraxis": "coloraxis",
         "hovertemplate": "Sequence position: %{x}<br>Layer: %{y}<br>Logit diff variation: %{z}<extra></extra>",
         "name": "2",
         "type": "heatmap",
         "x": [
          "<|endoftext|> 0",
          "Sarah 1",
          " is 2",
          " a 3",
          " bear 4",
          ". 5",
          " Bears 6",
          " are 7",
          " young 8",
          ". 9",
          " Therefore 10",
          ", 11",
          " Sarah 12",
          " is 13"
         ],
         "xaxis": "x3",
         "yaxis": "y3",
         "z": [
          [
           0,
           0,
           0,
           0,
           0,
           0,
           0,
           0,
           98.98075103759766,
           0,
           0,
           0,
           0,
           0
          ],
          [
           0,
           0,
           0,
           0,
           0,
           0,
           0,
           0,
           2.8597021102905273,
           0.03387858718633652,
           -0.01895265467464924,
           -0.0011563497828319669,
           -0.0010333338286727667,
           0.010075004771351814
          ],
          [
           0,
           0,
           0,
           0,
           0,
           0,
           0,
           0,
           0.7428808808326721,
           -0.027313636615872383,
           -0.054422248154878616,
           -0.011633206158876419,
           -0.0005863759433850646,
           0.020605169236660004
          ],
          [
           0,
           0,
           0,
           0,
           0,
           0,
           0,
           0,
           3.7252585887908936,
           -0.11893589794635773,
           -0.11057491600513458,
           0.01846059039235115,
           -0.004957541823387146,
           -0.028769325464963913
          ],
          [
           0,
           0,
           0,
           0,
           0,
           0,
           0,
           0,
           2.840761661529541,
           -0.0038626999594271183,
           0.054327934980392456,
           -0.017230430617928505,
           -0.021978845819830894,
           0.007081616669893265
          ],
          [
           0,
           0,
           0,
           0,
           0,
           0,
           0,
           0,
           1.591210961341858,
           -0.20037654042243958,
           0.039865363389253616,
           -0.004010319244116545,
           0.062233757227659225,
           0.007750003598630428
          ],
          [
           0,
           0,
           0,
           0,
           0,
           0,
           0,
           0,
           1.694191813468933,
           0.052876345813274384,
           0.1439860463142395,
           0.039935071021318436,
           0.0034362447913736105,
           0.0387418158352375
          ],
          [
           0,
           0,
           0,
           0,
           0,
           0,
           0,
           0,
           1.586766004562378,
           -0.10644157975912094,
           0.012354899197816849,
           -0.041079118847846985,
           0.006765875965356827,
           0.0020297628361731768
          ],
          [
           0,
           0,
           0,
           0,
           0,
           0,
           0,
           0,
           1.6415820121765137,
           -0.204977348446846,
           -0.09392265975475311,
           -0.00005740742926718667,
           0.0496574267745018,
           -0.02443506382405758
          ],
          [
           0,
           0,
           0,
           0,
           0,
           0,
           0,
           0,
           2.1741013526916504,
           -0.012633735314011574,
           0.09069964289665222,
           0.028113240376114845,
           0.0071677276864647865,
           0.19627602398395538
          ],
          [
           0,
           0,
           0,
           0,
           0,
           0,
           0,
           0,
           2.9109299182891846,
           -0.24158276617527008,
           0.04195253178477287,
           0.08661961555480957,
           0.07158296555280685,
           -0.04224776849150658
          ],
          [
           0,
           0,
           0,
           0,
           0,
           0,
           0,
           0,
           6.287541389465332,
           -0.5118528604507446,
           -0.2510960102081299,
           0.03753215819597244,
           -0.06672383844852448,
           -0.1910560429096222
          ],
          [
           0,
           0,
           0,
           0,
           0,
           0,
           0,
           0,
           3.328314781188965,
           -0.1474468857049942,
           -0.1591252088546753,
           -0.00999299343675375,
           -0.05563190206885338,
           0.18085801601409912
          ],
          [
           0,
           0,
           0,
           0,
           0,
           0,
           0,
           0,
           3.509718179702759,
           -0.17770880460739136,
           0.08327767997980118,
           -0.2114274799823761,
           -0.12330706417560577,
           -1.3649601936340332
          ],
          [
           0,
           0,
           0,
           0,
           0,
           0,
           0,
           0,
           3.795229911804199,
           -0.0976131334900856,
           -0.49549993872642517,
           -0.22502073645591736,
           -0.097198985517025,
           -1.092955470085144
          ],
          [
           0,
           0,
           0,
           0,
           0,
           0,
           0,
           0,
           1.4547125101089478,
           -0.09894991666078568,
           -0.04685676470398903,
           -0.026128584519028664,
           -0.14197269082069397,
           -0.49172335863113403
          ],
          [
           0,
           0,
           0,
           0,
           0,
           0,
           0,
           0,
           0.9843529462814331,
           -0.03441985696554184,
           -0.13748259842395782,
           -0.08826392889022827,
           -0.13634265959262848,
           -0.3735050559043884
          ],
          [
           0,
           0,
           0,
           0,
           0,
           0,
           0,
           0,
           0.4282471239566803,
           -0.03737223893404007,
           0.011637306772172451,
           -0.029417209327220917,
           -0.07085717469453812,
           -0.37932783365249634
          ],
          [
           0,
           0,
           0,
           0,
           0,
           0,
           0,
           0,
           0.20223408937454224,
           0.0024070115759968758,
           -0.020022893324494362,
           -0.008943257853388786,
           -0.048193540424108505,
           1.0254853963851929
          ],
          [
           0,
           0,
           0,
           0,
           0,
           0,
           0,
           0,
           0.2384786754846573,
           0.05639049783349037,
           -0.029696043580770493,
           -0.001828836859203875,
           -0.023623159155249596,
           0.08939976990222931
          ],
          [
           0,
           0,
           0,
           0,
           0,
           0,
           0,
           0,
           0.24997657537460327,
           -0.005174869671463966,
           -0.0031082024797797203,
           -0.023647760972380638,
           -0.006064685061573982,
           0.6553468108177185
          ],
          [
           0,
           0,
           0,
           0,
           0,
           0,
           0,
           0,
           -0.09687094390392303,
           0.015967467799782753,
           0.03233678638935089,
           -0.0075408765114843845,
           0.004904234781861305,
           0.6593940854072571
          ],
          [
           0,
           0,
           0,
           0,
           0,
           0,
           0,
           0,
           0.22807973623275757,
           -0.03719181567430496,
           0.011559396982192993,
           -0.0032517211511731148,
           0.047201212495565414,
           0.1689910739660263
          ],
          [
           0,
           0,
           0,
           0,
           0,
           0,
           0,
           0,
           0.08256419003009796,
           -0.006273812148720026,
           0.014655297622084618,
           0.02118334174156189,
           0.011288762092590332,
           1.1304548978805542
          ],
          [
           0,
           0,
           0,
           0,
           0,
           0,
           0,
           0,
           -0.02694868855178356,
           -0.00099642900750041,
           0.01161270309239626,
           -0.002968784421682358,
           -0.0013408735394477844,
           0.536718487739563
          ],
          [
           0,
           0,
           0,
           0,
           0,
           0,
           0,
           0,
           -0.03663414344191551,
           -0.007905823178589344,
           -0.002484921831637621,
           -0.003928308375179768,
           -0.009226194582879543,
           -0.15825589001178741
          ],
          [
           0,
           0,
           0,
           0,
           0,
           0,
           0,
           0,
           0.1901703178882599,
           0.002747355727478862,
           0.006880691275000572,
           -0.0007503971573896706,
           0.0008447094005532563,
           0.15698471665382385
          ],
          [
           0,
           0,
           0,
           0,
           0,
           0,
           0,
           0,
           -0.16021594405174255,
           0.01919458620250225,
           0.002698149299249053,
           -0.012637835927307606,
           -0.0024562180042266846,
           -1.1863820552825928
          ],
          [
           0,
           0,
           0,
           0,
           0,
           0,
           0,
           0,
           -0.2815629541873932,
           0.03224657475948334,
           0.0027350541204214096,
           -0.009058072231709957,
           -0.03960292786359787,
           -3.156703233718872
          ],
          [
           0,
           0,
           0,
           0,
           0,
           0,
           0,
           0,
           0.042493801563978195,
           -0.02342633344233036,
           0.0021240750793367624,
           0.015852652490139008,
           -0.00802063848823309,
           -2.760920286178589
          ],
          [
           0,
           0,
           0,
           0,
           0,
           0,
           0,
           0,
           0.025382285937666893,
           -0.04757435992360115,
           0.017722494900226593,
           0.009705956093966961,
           0.014142731204628944,
           -3.263735294342041
          ],
          [
           0,
           0,
           0,
           0,
           0,
           0,
           0,
           0,
           0,
           0,
           0,
           0,
           0,
           -3.5128512382507324
          ]
         ]
        }
       ],
       "layout": {
        "annotations": [
         {
          "font": {},
          "showarrow": false,
          "text": "resid_pre",
          "x": 0.15999999999999998,
          "xanchor": "center",
          "xref": "paper",
          "y": 1,
          "yanchor": "bottom",
          "yref": "paper"
         },
         {
          "font": {},
          "showarrow": false,
          "text": "attn_out",
          "x": 0.49999999999999994,
          "xanchor": "center",
          "xref": "paper",
          "y": 1,
          "yanchor": "bottom",
          "yref": "paper"
         },
         {
          "font": {},
          "showarrow": false,
          "text": "mlp_out",
          "x": 0.8399999999999999,
          "xanchor": "center",
          "xref": "paper",
          "y": 1,
          "yanchor": "bottom",
          "yref": "paper"
         }
        ],
        "coloraxis": {
         "cmid": 0,
         "colorbar": {
          "ticksuffix": "%",
          "title": {
           "text": "Logit diff variation"
          }
         },
         "colorscale": [
          [
           0,
           "rgb(103,0,31)"
          ],
          [
           0.1,
           "rgb(178,24,43)"
          ],
          [
           0.2,
           "rgb(214,96,77)"
          ],
          [
           0.3,
           "rgb(244,165,130)"
          ],
          [
           0.4,
           "rgb(253,219,199)"
          ],
          [
           0.5,
           "rgb(247,247,247)"
          ],
          [
           0.6,
           "rgb(209,229,240)"
          ],
          [
           0.7,
           "rgb(146,197,222)"
          ],
          [
           0.8,
           "rgb(67,147,195)"
          ],
          [
           0.9,
           "rgb(33,102,172)"
          ],
          [
           1,
           "rgb(5,48,97)"
          ]
         ]
        },
        "height": 600,
        "margin": {
         "l": 100,
         "r": 100
        },
        "template": {
         "data": {
          "bar": [
           {
            "error_x": {
             "color": "#2a3f5f"
            },
            "error_y": {
             "color": "#2a3f5f"
            },
            "marker": {
             "line": {
              "color": "#E5ECF6",
              "width": 0.5
             },
             "pattern": {
              "fillmode": "overlay",
              "size": 10,
              "solidity": 0.2
             }
            },
            "type": "bar"
           }
          ],
          "barpolar": [
           {
            "marker": {
             "line": {
              "color": "#E5ECF6",
              "width": 0.5
             },
             "pattern": {
              "fillmode": "overlay",
              "size": 10,
              "solidity": 0.2
             }
            },
            "type": "barpolar"
           }
          ],
          "carpet": [
           {
            "aaxis": {
             "endlinecolor": "#2a3f5f",
             "gridcolor": "white",
             "linecolor": "white",
             "minorgridcolor": "white",
             "startlinecolor": "#2a3f5f"
            },
            "baxis": {
             "endlinecolor": "#2a3f5f",
             "gridcolor": "white",
             "linecolor": "white",
             "minorgridcolor": "white",
             "startlinecolor": "#2a3f5f"
            },
            "type": "carpet"
           }
          ],
          "choropleth": [
           {
            "colorbar": {
             "outlinewidth": 0,
             "ticks": ""
            },
            "type": "choropleth"
           }
          ],
          "contour": [
           {
            "colorbar": {
             "outlinewidth": 0,
             "ticks": ""
            },
            "colorscale": [
             [
              0,
              "#0d0887"
             ],
             [
              0.1111111111111111,
              "#46039f"
             ],
             [
              0.2222222222222222,
              "#7201a8"
             ],
             [
              0.3333333333333333,
              "#9c179e"
             ],
             [
              0.4444444444444444,
              "#bd3786"
             ],
             [
              0.5555555555555556,
              "#d8576b"
             ],
             [
              0.6666666666666666,
              "#ed7953"
             ],
             [
              0.7777777777777778,
              "#fb9f3a"
             ],
             [
              0.8888888888888888,
              "#fdca26"
             ],
             [
              1,
              "#f0f921"
             ]
            ],
            "type": "contour"
           }
          ],
          "contourcarpet": [
           {
            "colorbar": {
             "outlinewidth": 0,
             "ticks": ""
            },
            "type": "contourcarpet"
           }
          ],
          "heatmap": [
           {
            "colorbar": {
             "outlinewidth": 0,
             "ticks": ""
            },
            "colorscale": [
             [
              0,
              "#0d0887"
             ],
             [
              0.1111111111111111,
              "#46039f"
             ],
             [
              0.2222222222222222,
              "#7201a8"
             ],
             [
              0.3333333333333333,
              "#9c179e"
             ],
             [
              0.4444444444444444,
              "#bd3786"
             ],
             [
              0.5555555555555556,
              "#d8576b"
             ],
             [
              0.6666666666666666,
              "#ed7953"
             ],
             [
              0.7777777777777778,
              "#fb9f3a"
             ],
             [
              0.8888888888888888,
              "#fdca26"
             ],
             [
              1,
              "#f0f921"
             ]
            ],
            "type": "heatmap"
           }
          ],
          "heatmapgl": [
           {
            "colorbar": {
             "outlinewidth": 0,
             "ticks": ""
            },
            "colorscale": [
             [
              0,
              "#0d0887"
             ],
             [
              0.1111111111111111,
              "#46039f"
             ],
             [
              0.2222222222222222,
              "#7201a8"
             ],
             [
              0.3333333333333333,
              "#9c179e"
             ],
             [
              0.4444444444444444,
              "#bd3786"
             ],
             [
              0.5555555555555556,
              "#d8576b"
             ],
             [
              0.6666666666666666,
              "#ed7953"
             ],
             [
              0.7777777777777778,
              "#fb9f3a"
             ],
             [
              0.8888888888888888,
              "#fdca26"
             ],
             [
              1,
              "#f0f921"
             ]
            ],
            "type": "heatmapgl"
           }
          ],
          "histogram": [
           {
            "marker": {
             "pattern": {
              "fillmode": "overlay",
              "size": 10,
              "solidity": 0.2
             }
            },
            "type": "histogram"
           }
          ],
          "histogram2d": [
           {
            "colorbar": {
             "outlinewidth": 0,
             "ticks": ""
            },
            "colorscale": [
             [
              0,
              "#0d0887"
             ],
             [
              0.1111111111111111,
              "#46039f"
             ],
             [
              0.2222222222222222,
              "#7201a8"
             ],
             [
              0.3333333333333333,
              "#9c179e"
             ],
             [
              0.4444444444444444,
              "#bd3786"
             ],
             [
              0.5555555555555556,
              "#d8576b"
             ],
             [
              0.6666666666666666,
              "#ed7953"
             ],
             [
              0.7777777777777778,
              "#fb9f3a"
             ],
             [
              0.8888888888888888,
              "#fdca26"
             ],
             [
              1,
              "#f0f921"
             ]
            ],
            "type": "histogram2d"
           }
          ],
          "histogram2dcontour": [
           {
            "colorbar": {
             "outlinewidth": 0,
             "ticks": ""
            },
            "colorscale": [
             [
              0,
              "#0d0887"
             ],
             [
              0.1111111111111111,
              "#46039f"
             ],
             [
              0.2222222222222222,
              "#7201a8"
             ],
             [
              0.3333333333333333,
              "#9c179e"
             ],
             [
              0.4444444444444444,
              "#bd3786"
             ],
             [
              0.5555555555555556,
              "#d8576b"
             ],
             [
              0.6666666666666666,
              "#ed7953"
             ],
             [
              0.7777777777777778,
              "#fb9f3a"
             ],
             [
              0.8888888888888888,
              "#fdca26"
             ],
             [
              1,
              "#f0f921"
             ]
            ],
            "type": "histogram2dcontour"
           }
          ],
          "mesh3d": [
           {
            "colorbar": {
             "outlinewidth": 0,
             "ticks": ""
            },
            "type": "mesh3d"
           }
          ],
          "parcoords": [
           {
            "line": {
             "colorbar": {
              "outlinewidth": 0,
              "ticks": ""
             }
            },
            "type": "parcoords"
           }
          ],
          "pie": [
           {
            "automargin": true,
            "type": "pie"
           }
          ],
          "scatter": [
           {
            "fillpattern": {
             "fillmode": "overlay",
             "size": 10,
             "solidity": 0.2
            },
            "type": "scatter"
           }
          ],
          "scatter3d": [
           {
            "line": {
             "colorbar": {
              "outlinewidth": 0,
              "ticks": ""
             }
            },
            "marker": {
             "colorbar": {
              "outlinewidth": 0,
              "ticks": ""
             }
            },
            "type": "scatter3d"
           }
          ],
          "scattercarpet": [
           {
            "marker": {
             "colorbar": {
              "outlinewidth": 0,
              "ticks": ""
             }
            },
            "type": "scattercarpet"
           }
          ],
          "scattergeo": [
           {
            "marker": {
             "colorbar": {
              "outlinewidth": 0,
              "ticks": ""
             }
            },
            "type": "scattergeo"
           }
          ],
          "scattergl": [
           {
            "marker": {
             "colorbar": {
              "outlinewidth": 0,
              "ticks": ""
             }
            },
            "type": "scattergl"
           }
          ],
          "scattermapbox": [
           {
            "marker": {
             "colorbar": {
              "outlinewidth": 0,
              "ticks": ""
             }
            },
            "type": "scattermapbox"
           }
          ],
          "scatterpolar": [
           {
            "marker": {
             "colorbar": {
              "outlinewidth": 0,
              "ticks": ""
             }
            },
            "type": "scatterpolar"
           }
          ],
          "scatterpolargl": [
           {
            "marker": {
             "colorbar": {
              "outlinewidth": 0,
              "ticks": ""
             }
            },
            "type": "scatterpolargl"
           }
          ],
          "scatterternary": [
           {
            "marker": {
             "colorbar": {
              "outlinewidth": 0,
              "ticks": ""
             }
            },
            "type": "scatterternary"
           }
          ],
          "surface": [
           {
            "colorbar": {
             "outlinewidth": 0,
             "ticks": ""
            },
            "colorscale": [
             [
              0,
              "#0d0887"
             ],
             [
              0.1111111111111111,
              "#46039f"
             ],
             [
              0.2222222222222222,
              "#7201a8"
             ],
             [
              0.3333333333333333,
              "#9c179e"
             ],
             [
              0.4444444444444444,
              "#bd3786"
             ],
             [
              0.5555555555555556,
              "#d8576b"
             ],
             [
              0.6666666666666666,
              "#ed7953"
             ],
             [
              0.7777777777777778,
              "#fb9f3a"
             ],
             [
              0.8888888888888888,
              "#fdca26"
             ],
             [
              1,
              "#f0f921"
             ]
            ],
            "type": "surface"
           }
          ],
          "table": [
           {
            "cells": {
             "fill": {
              "color": "#EBF0F8"
             },
             "line": {
              "color": "white"
             }
            },
            "header": {
             "fill": {
              "color": "#C8D4E3"
             },
             "line": {
              "color": "white"
             }
            },
            "type": "table"
           }
          ]
         },
         "layout": {
          "annotationdefaults": {
           "arrowcolor": "#2a3f5f",
           "arrowhead": 0,
           "arrowwidth": 1
          },
          "autotypenumbers": "strict",
          "coloraxis": {
           "colorbar": {
            "outlinewidth": 0,
            "ticks": ""
           }
          },
          "colorscale": {
           "diverging": [
            [
             0,
             "#8e0152"
            ],
            [
             0.1,
             "#c51b7d"
            ],
            [
             0.2,
             "#de77ae"
            ],
            [
             0.3,
             "#f1b6da"
            ],
            [
             0.4,
             "#fde0ef"
            ],
            [
             0.5,
             "#f7f7f7"
            ],
            [
             0.6,
             "#e6f5d0"
            ],
            [
             0.7,
             "#b8e186"
            ],
            [
             0.8,
             "#7fbc41"
            ],
            [
             0.9,
             "#4d9221"
            ],
            [
             1,
             "#276419"
            ]
           ],
           "sequential": [
            [
             0,
             "#0d0887"
            ],
            [
             0.1111111111111111,
             "#46039f"
            ],
            [
             0.2222222222222222,
             "#7201a8"
            ],
            [
             0.3333333333333333,
             "#9c179e"
            ],
            [
             0.4444444444444444,
             "#bd3786"
            ],
            [
             0.5555555555555556,
             "#d8576b"
            ],
            [
             0.6666666666666666,
             "#ed7953"
            ],
            [
             0.7777777777777778,
             "#fb9f3a"
            ],
            [
             0.8888888888888888,
             "#fdca26"
            ],
            [
             1,
             "#f0f921"
            ]
           ],
           "sequentialminus": [
            [
             0,
             "#0d0887"
            ],
            [
             0.1111111111111111,
             "#46039f"
            ],
            [
             0.2222222222222222,
             "#7201a8"
            ],
            [
             0.3333333333333333,
             "#9c179e"
            ],
            [
             0.4444444444444444,
             "#bd3786"
            ],
            [
             0.5555555555555556,
             "#d8576b"
            ],
            [
             0.6666666666666666,
             "#ed7953"
            ],
            [
             0.7777777777777778,
             "#fb9f3a"
            ],
            [
             0.8888888888888888,
             "#fdca26"
            ],
            [
             1,
             "#f0f921"
            ]
           ]
          },
          "colorway": [
           "#636efa",
           "#EF553B",
           "#00cc96",
           "#ab63fa",
           "#FFA15A",
           "#19d3f3",
           "#FF6692",
           "#B6E880",
           "#FF97FF",
           "#FECB52"
          ],
          "font": {
           "color": "#2a3f5f"
          },
          "geo": {
           "bgcolor": "white",
           "lakecolor": "white",
           "landcolor": "#E5ECF6",
           "showlakes": true,
           "showland": true,
           "subunitcolor": "white"
          },
          "hoverlabel": {
           "align": "left"
          },
          "hovermode": "closest",
          "mapbox": {
           "style": "light"
          },
          "paper_bgcolor": "white",
          "plot_bgcolor": "#E5ECF6",
          "polar": {
           "angularaxis": {
            "gridcolor": "white",
            "linecolor": "white",
            "ticks": ""
           },
           "bgcolor": "#E5ECF6",
           "radialaxis": {
            "gridcolor": "white",
            "linecolor": "white",
            "ticks": ""
           }
          },
          "scene": {
           "xaxis": {
            "backgroundcolor": "#E5ECF6",
            "gridcolor": "white",
            "gridwidth": 2,
            "linecolor": "white",
            "showbackground": true,
            "ticks": "",
            "zerolinecolor": "white"
           },
           "yaxis": {
            "backgroundcolor": "#E5ECF6",
            "gridcolor": "white",
            "gridwidth": 2,
            "linecolor": "white",
            "showbackground": true,
            "ticks": "",
            "zerolinecolor": "white"
           },
           "zaxis": {
            "backgroundcolor": "#E5ECF6",
            "gridcolor": "white",
            "gridwidth": 2,
            "linecolor": "white",
            "showbackground": true,
            "ticks": "",
            "zerolinecolor": "white"
           }
          },
          "shapedefaults": {
           "line": {
            "color": "#2a3f5f"
           }
          },
          "ternary": {
           "aaxis": {
            "gridcolor": "white",
            "linecolor": "white",
            "ticks": ""
           },
           "baxis": {
            "gridcolor": "white",
            "linecolor": "white",
            "ticks": ""
           },
           "bgcolor": "#E5ECF6",
           "caxis": {
            "gridcolor": "white",
            "linecolor": "white",
            "ticks": ""
           }
          },
          "title": {
           "x": 0.05
          },
          "xaxis": {
           "automargin": true,
           "gridcolor": "white",
           "linecolor": "white",
           "ticks": "",
           "title": {
            "standoff": 15
           },
           "zerolinecolor": "white",
           "zerolinewidth": 2
          },
          "yaxis": {
           "automargin": true,
           "gridcolor": "white",
           "linecolor": "white",
           "ticks": "",
           "title": {
            "standoff": 15
           },
           "zerolinecolor": "white",
           "zerolinewidth": 2
          }
         }
        },
        "title": {
         "text": "Patching at resid stream & layer outputs (corrupted -> clean)"
        },
        "width": 1500,
        "xaxis": {
         "anchor": "y",
         "constrain": "domain",
         "domain": [
          0,
          0.31999999999999995
         ],
         "linecolor": "black",
         "linewidth": 1,
         "mirror": true,
         "scaleanchor": "y",
         "showline": true,
         "tickangle": 45,
         "title": {
          "text": "Sequence position"
         }
        },
        "xaxis2": {
         "anchor": "y2",
         "domain": [
          0.33999999999999997,
          0.6599999999999999
         ],
         "linecolor": "black",
         "linewidth": 1,
         "matches": "x",
         "mirror": true,
         "showline": true,
         "tickangle": 45,
         "title": {
          "text": "Sequence position"
         }
        },
        "xaxis3": {
         "anchor": "y3",
         "domain": [
          0.6799999999999999,
          0.9999999999999999
         ],
         "linecolor": "black",
         "linewidth": 1,
         "matches": "x",
         "mirror": true,
         "showline": true,
         "tickangle": 45,
         "title": {
          "text": "Sequence position"
         }
        },
        "yaxis": {
         "anchor": "x",
         "autorange": "reversed",
         "constrain": "domain",
         "domain": [
          0,
          1
         ],
         "linecolor": "black",
         "linewidth": 1,
         "mirror": true,
         "showline": true,
         "title": {
          "text": "Layer"
         }
        },
        "yaxis2": {
         "anchor": "x2",
         "domain": [
          0,
          1
         ],
         "linecolor": "black",
         "linewidth": 1,
         "matches": "y",
         "mirror": true,
         "showline": true,
         "showticklabels": false
        },
        "yaxis3": {
         "anchor": "x3",
         "domain": [
          0,
          1
         ],
         "linecolor": "black",
         "linewidth": 1,
         "matches": "y",
         "mirror": true,
         "showline": true,
         "showticklabels": false
        }
       }
      },
      "text/html": [
       "<div>                            <div id=\"f71f32b3-9980-4c5b-bf6c-0a56a3ad405c\" class=\"plotly-graph-div\" style=\"height:600px; width:1500px;\"></div>            <script type=\"text/javascript\">                require([\"plotly\"], function(Plotly) {                    window.PLOTLYENV=window.PLOTLYENV || {};                                    if (document.getElementById(\"f71f32b3-9980-4c5b-bf6c-0a56a3ad405c\")) {                    Plotly.newPlot(                        \"f71f32b3-9980-4c5b-bf6c-0a56a3ad405c\",                        [{\"coloraxis\":\"coloraxis\",\"name\":\"0\",\"x\":[\"\\u003c|endoftext|\\u003e 0\",\"Sarah 1\",\" is 2\",\" a 3\",\" bear 4\",\". 5\",\" Bears 6\",\" are 7\",\" young 8\",\". 9\",\" Therefore 10\",\", 11\",\" Sarah 12\",\" is 13\"],\"z\":[[0.0,0.0,0.0,0.0,0.0,0.0,0.0,0.0,100.0,0.0,0.0,0.0,0.0,0.0],[0.0,0.0,0.0,0.0,0.0,0.0,0.0,0.0,99.9382553100586,-0.07790599018335342,-0.07525704801082611,0.0017796304309740663,-0.008098548278212547,-0.00718002999201417],[0.0,0.0,0.0,0.0,0.0,0.0,0.0,0.0,99.89396667480469,0.03318149596452713,-0.14091885089874268,-0.008992464281618595,-0.0028457685839384794,0.01644722931087017],[0.0,0.0,0.0,0.0,0.0,0.0,0.0,0.0,99.71531677246094,0.06042132154107094,-0.2661900520324707,-0.014770112931728363,-0.024562180042266846,-0.013687572441995144],[0.0,0.0,0.0,0.0,0.0,0.0,0.0,0.0,99.7176284790039,0.060261402279138565,-0.0696762204170227,-0.015664028003811836,-0.022520115599036217,0.0032763241324573755],[0.0,0.0,0.0,0.0,0.0,0.0,0.0,0.0,99.57461547851562,0.32604551315307617,0.12228602916002274,0.006093388888984919,-0.027498159557580948,0.014917731285095215],[0.0,0.0,0.0,0.0,0.0,0.0,0.0,0.0,99.42082214355469,0.5806105732917786,0.3950369656085968,0.10965640097856522,-0.09390215575695038,0.20799943804740906],[0.0,0.0,0.0,0.0,0.0,0.0,0.0,0.0,99.44266510009766,0.5086708664894104,0.3725455403327942,0.08370824158191681,-0.06643680483102798,0.2729477286338806],[0.0,0.0,0.0,0.0,0.0,0.0,0.0,0.0,99.6575927734375,0.6653562784194946,0.33805185556411743,0.09617385268211365,-0.08415109664201736,0.15077652037143707],[0.0,0.0,0.0,0.0,0.0,0.0,0.0,0.0,99.96049499511719,0.3599323034286499,0.2962469458580017,0.17654836177825928,0.031270649284124374,0.21100102365016937],[0.0,0.0,0.0,0.0,0.0,0.0,0.0,0.0,100.34786224365234,0.3365100622177124,0.3871147334575653,0.2627210319042206,0.14731568098068237,-0.15063299238681793],[0.0,0.0,0.0,0.0,0.0,0.0,0.0,0.0,94.79679107666016,2.3414523601531982,1.5005072355270386,0.893058717250824,0.2614908516407013,2.6724636554718018],[0.0,0.0,0.0,0.0,0.0,0.0,0.0,0.0,95.96065521240234,2.9464776515960693,1.5656769275665283,0.8969419598579407,0.2449370175600052,1.9957406520843506],[0.0,0.0,0.0,0.0,0.0,0.0,0.0,0.0,93.61810302734375,1.0372334718704224,1.531113624572754,0.8064185976982117,0.6990625858306885,4.165159702301025],[0.0,0.0,0.0,0.0,0.0,0.0,0.0,0.0,75.57487487792969,1.516109824180603,1.917527198791504,0.9647237062454224,0.7630800604820251,17.203855514526367],[0.0,0.0,0.0,0.0,0.0,0.0,0.0,0.0,73.9727554321289,1.5266194343566895,1.426656723022461,0.9339450597763062,1.1364293098449707,18.512287139892578],[0.0,0.0,0.0,0.0,0.0,0.0,0.0,0.0,68.32259368896484,1.675854206085205,1.4496033191680908,0.908160924911499,1.114450454711914,20.772348403930664],[0.0,0.0,0.0,0.0,0.0,0.0,0.0,0.0,52.60623550415039,1.776604175567627,1.7413314580917358,1.1671587228775024,1.2178822755813599,34.32436752319336],[0.0,0.0,0.0,0.0,0.0,0.0,0.0,0.0,37.3798828125,1.820135474205017,1.0996721982955933,1.1693115234375,1.2121907472610474,52.23384094238281],[0.0,0.0,0.0,0.0,0.0,0.0,0.0,0.0,28.69768714904785,1.8610587120056152,1.2342966794967651,1.4266977310180664,1.3750392198562622,61.63258361816406],[0.0,0.0,0.0,0.0,0.0,0.0,0.0,0.0,25.965272903442383,1.838710904121399,1.2373802661895752,1.3991708755493164,1.3112801313400269,63.83676528930664],[0.0,0.0,0.0,0.0,0.0,0.0,0.0,0.0,22.77190589904785,1.6704659461975098,1.2468935251235962,1.4036363363265991,1.446101427078247,67.64654541015625],[0.0,0.0,0.0,0.0,0.0,0.0,0.0,0.0,16.0297908782959,1.6445178985595703,1.2374787330627441,1.4416974782943726,1.5029553174972534,75.26224517822266],[0.0,0.0,0.0,0.0,0.0,0.0,0.0,0.0,11.76795768737793,1.4262303113937378,1.1388527154922485,1.3843392133712769,1.2654074430465698,81.38990783691406],[0.0,0.0,0.0,0.0,0.0,0.0,0.0,0.0,8.833532333374023,1.4809722900390625,1.0947924852371216,1.4162209033966064,1.1067209243774414,85.02896881103516],[0.0,0.0,0.0,0.0,0.0,0.0,0.0,0.0,7.419549465179443,1.4359033107757568,1.042986512184143,1.3206579685211182,0.8783254623413086,88.03186798095703],[0.0,0.0,0.0,0.0,0.0,0.0,0.0,0.0,6.222896099090576,1.4497263431549072,0.9223160147666931,1.302718162536621,0.8502737879753113,89.37894439697266],[0.0,0.0,0.0,0.0,0.0,0.0,0.0,0.0,5.545697212219238,1.424147129058838,0.9286636710166931,1.291425347328186,0.8576177954673767,89.02066040039062],[0.0,0.0,0.0,0.0,0.0,0.0,0.0,0.0,4.506392955780029,0.9956663250923157,0.9092926979064941,1.1993601322174072,0.38619622588157654,91.05125427246094],[0.0,0.0,0.0,0.0,0.0,0.0,0.0,0.0,4.053186416625977,0.8151609301567078,0.6249332427978516,1.1376676559448242,0.3814723789691925,92.25699615478516],[0.0,0.0,0.0,0.0,0.0,0.0,0.0,0.0,-0.06446854770183563,0.48809847235679626,0.4712739884853363,1.0861403942108154,0.40398022532463074,97.33926391601562],[0.0,0.0,0.0,0.0,0.0,0.0,0.0,0.0,-0.008225665427744389,0.25242868065834045,0.0775984525680542,0.22816993296146393,0.12001843750476837,99.31999206542969]],\"type\":\"heatmap\",\"xaxis\":\"x\",\"yaxis\":\"y\",\"hovertemplate\":\"Sequence position: %{x}\\u003cbr\\u003eLayer: %{y}\\u003cbr\\u003eLogit diff variation: %{z}\\u003cextra\\u003e\\u003c\\u002fextra\\u003e\"},{\"coloraxis\":\"coloraxis\",\"name\":\"1\",\"x\":[\"\\u003c|endoftext|\\u003e 0\",\"Sarah 1\",\" is 2\",\" a 3\",\" bear 4\",\". 5\",\" Bears 6\",\" are 7\",\" young 8\",\". 9\",\" Therefore 10\",\", 11\",\" Sarah 12\",\" is 13\"],\"z\":[[0.0,0.0,0.0,0.0,0.0,0.0,0.0,0.0,0.7647900581359863,-0.07790599018335342,-0.07525704801082611,0.0017796304309740663,-0.008098548278212547,-0.00718002999201417],[0.0,0.0,0.0,0.0,0.0,0.0,0.0,0.0,0.5578280687332153,0.07158707082271576,-0.07081616669893265,-0.012194979004561901,0.018058737739920616,0.018247362226247787],[0.0,0.0,0.0,0.0,0.0,0.0,0.0,0.0,0.15655827522277832,0.029790358617901802,-0.11462623625993729,-0.006122092716395855,-0.023430433124303818,-0.0332799106836319],[0.0,0.0,0.0,0.0,0.0,0.0,0.0,0.0,0.15145720541477203,0.01048915833234787,0.1842532604932785,-0.0018493394600227475,0.0046623037196695805,0.03200874477624893],[0.0,0.0,0.0,0.0,0.0,0.0,0.0,0.0,-0.6786132454872131,0.2569597661495209,0.16809305548667908,0.008865348063409328,-0.0034936522133648396,0.014032017439603806],[0.0,0.0,0.0,0.0,0.0,0.0,0.0,0.0,0.8886095881462097,0.6578645706176758,0.46038302779197693,0.07863998413085938,-0.07393667101860046,0.2026195377111435],[0.0,0.0,0.0,0.0,0.0,0.0,0.0,0.0,0.14824649691581726,-0.012559927068650723,0.021064426749944687,0.0007462966023012996,-0.016344714909791946,0.12988021969795227],[0.0,0.0,0.0,0.0,0.0,0.0,0.0,0.0,-0.0567595474421978,0.014302651397883892,-0.06451775878667831,0.02628440223634243,-0.060536134988069534,-0.16830219328403473],[0.0,0.0,0.0,0.0,0.0,0.0,0.0,0.0,-0.04273573309183121,0.07603204250335693,-0.017599478363990784,0.08537305146455765,0.045540496706962585,0.03402620553970337],[0.0,0.0,0.0,0.0,0.0,0.0,0.0,0.0,-0.7456610202789307,0.2609741985797882,0.04836165904998779,0.05293375626206398,0.07672913372516632,-0.24472789466381073],[0.0,0.0,0.0,0.0,0.0,0.0,0.0,0.0,-0.3774866759777069,1.2693194150924683,0.8560965657234192,0.4497380554676056,0.23277483880519867,2.444248676300049],[0.0,0.0,0.0,0.0,0.0,0.0,0.0,0.0,-0.18116556107997894,0.15715694427490234,0.10936936736106873,0.07937807589769363,-0.006868388969451189,-0.8144433498382568],[0.0,0.0,0.0,0.0,0.0,0.0,0.0,0.0,0.9574616551399231,0.26650989055633545,0.6478511095046997,0.3532853424549103,0.5560073852539062,3.490995168685913],[0.0,0.0,0.0,0.0,0.0,0.0,0.0,0.0,0.21913647651672363,0.1479184478521347,0.4225105047225952,0.2920849323272705,0.14184147119522095,13.842219352722168],[0.0,0.0,0.0,0.0,0.0,0.0,0.0,0.0,0.2734644114971161,0.3447152078151703,0.47765442728996277,0.2652633488178253,0.33636245131492615,-1.4539457559585571],[0.0,0.0,0.0,0.0,0.0,0.0,0.0,0.0,0.29979801177978516,0.1510307490825653,0.04304327443242073,0.04125954210758209,0.26393476128578186,1.8869986534118652],[0.0,0.0,0.0,0.0,0.0,0.0,0.0,0.0,-0.0639764815568924,0.27883198857307434,0.2097257673740387,0.28729140758514404,0.11675851047039032,12.190062522888184],[0.0,0.0,0.0,0.0,0.0,0.0,0.0,0.0,0.540773868560791,0.40921658277511597,0.23395989835262299,0.3412133753299713,0.3559998869895935,17.337467193603516],[0.0,0.0,0.0,0.0,0.0,0.0,0.0,0.0,-0.002759657334536314,0.21328912675380707,0.24074216187000275,0.29639866948127747,0.16908539831638336,7.831235408782959],[0.0,0.0,0.0,0.0,0.0,0.0,0.0,0.0,0.09881049394607544,0.0446670837700367,0.034534670412540436,-0.0021158738527446985,0.01851799711585045,0.9252806901931763],[0.0,0.0,0.0,0.0,0.0,0.0,0.0,0.0,0.1689910739660263,0.1406400054693222,0.09807649999856949,0.09292623400688171,0.21086980402469635,0.1975676715373993],[0.0,0.0,0.0,0.0,0.0,0.0,0.0,0.0,-0.19163011014461517,0.2468847632408142,0.1562507301568985,0.19453738629817963,0.13455481827259064,6.379380702972412],[0.0,0.0,0.0,0.0,0.0,0.0,0.0,0.0,0.13066750764846802,0.14517518877983093,0.09507080912590027,0.12394675612449646,0.08221564441919327,5.732833385467529],[0.0,0.0,0.0,0.0,0.0,0.0,0.0,0.0,-0.0020133606158196926,0.0756630003452301,0.05203574150800705,0.06078216806054115,0.026345910504460335,3.1977415084838867],[0.0,0.0,0.0,0.0,0.0,0.0,0.0,0.0,0.04155068099498749,0.08777596801519394,0.044359542429447174,0.05899843946099281,0.0626315101981163,2.553962469100952],[0.0,0.0,0.0,0.0,0.0,0.0,0.0,0.0,0.022696439176797867,0.044236525893211365,0.01765688695013523,0.02035093493759632,0.014183735474944115,1.3734235763549805],[0.0,0.0,0.0,0.0,0.0,0.0,0.0,0.0,0.008180559612810612,-0.049460604786872864,0.01084180362522602,-0.010046301409602165,-0.01617659442126751,-0.9544846415519714],[0.0,0.0,0.0,0.0,0.0,0.0,0.0,0.0,0.28458094596862793,0.016246303915977478,0.08207212388515472,0.08208442479372025,0.011629105545580387,2.9268155097961426],[0.0,0.0,0.0,0.0,0.0,0.0,0.0,0.0,0.18440908193588257,-0.018723024055361748,0.04695107787847519,0.04773838073015213,0.002882673405110836,2.2649405002593994],[0.0,0.0,0.0,0.0,0.0,0.0,0.0,0.0,-0.0024562180042266846,0.01675887033343315,0.028170648962259293,0.05810452252626419,-0.002206085715442896,4.531300067901611],[0.0,0.0,0.0,0.0,0.0,0.0,0.0,0.0,-0.005437303800135851,0.003805292770266533,0.002866271184757352,0.004043123219162226,0.002636641263961792,2.4887681007385254],[0.0,0.0,0.0,0.0,0.0,0.0,0.0,0.0,0.0,0.0,0.0,0.0,0.0,0.9088006615638733]],\"type\":\"heatmap\",\"xaxis\":\"x2\",\"yaxis\":\"y2\",\"hovertemplate\":\"Sequence position: %{x}\\u003cbr\\u003eLayer: %{y}\\u003cbr\\u003eLogit diff variation: %{z}\\u003cextra\\u003e\\u003c\\u002fextra\\u003e\"},{\"coloraxis\":\"coloraxis\",\"name\":\"2\",\"x\":[\"\\u003c|endoftext|\\u003e 0\",\"Sarah 1\",\" is 2\",\" a 3\",\" bear 4\",\". 5\",\" Bears 6\",\" are 7\",\" young 8\",\". 9\",\" Therefore 10\",\", 11\",\" Sarah 12\",\" is 13\"],\"z\":[[0.0,0.0,0.0,0.0,0.0,0.0,0.0,0.0,98.98075103759766,0.0,0.0,0.0,0.0,0.0],[0.0,0.0,0.0,0.0,0.0,0.0,0.0,0.0,2.8597021102905273,0.03387858718633652,-0.01895265467464924,-0.0011563497828319669,-0.0010333338286727667,0.010075004771351814],[0.0,0.0,0.0,0.0,0.0,0.0,0.0,0.0,0.7428808808326721,-0.027313636615872383,-0.054422248154878616,-0.011633206158876419,-0.0005863759433850646,0.020605169236660004],[0.0,0.0,0.0,0.0,0.0,0.0,0.0,0.0,3.7252585887908936,-0.11893589794635773,-0.11057491600513458,0.01846059039235115,-0.004957541823387146,-0.028769325464963913],[0.0,0.0,0.0,0.0,0.0,0.0,0.0,0.0,2.840761661529541,-0.0038626999594271183,0.054327934980392456,-0.017230430617928505,-0.021978845819830894,0.007081616669893265],[0.0,0.0,0.0,0.0,0.0,0.0,0.0,0.0,1.591210961341858,-0.20037654042243958,0.039865363389253616,-0.004010319244116545,0.062233757227659225,0.007750003598630428],[0.0,0.0,0.0,0.0,0.0,0.0,0.0,0.0,1.694191813468933,0.052876345813274384,0.1439860463142395,0.039935071021318436,0.0034362447913736105,0.0387418158352375],[0.0,0.0,0.0,0.0,0.0,0.0,0.0,0.0,1.586766004562378,-0.10644157975912094,0.012354899197816849,-0.041079118847846985,0.006765875965356827,0.0020297628361731768],[0.0,0.0,0.0,0.0,0.0,0.0,0.0,0.0,1.6415820121765137,-0.204977348446846,-0.09392265975475311,-5.740742926718667e-05,0.0496574267745018,-0.02443506382405758],[0.0,0.0,0.0,0.0,0.0,0.0,0.0,0.0,2.1741013526916504,-0.012633735314011574,0.09069964289665222,0.028113240376114845,0.0071677276864647865,0.19627602398395538],[0.0,0.0,0.0,0.0,0.0,0.0,0.0,0.0,2.9109299182891846,-0.24158276617527008,0.04195253178477287,0.08661961555480957,0.07158296555280685,-0.04224776849150658],[0.0,0.0,0.0,0.0,0.0,0.0,0.0,0.0,6.287541389465332,-0.5118528604507446,-0.2510960102081299,0.03753215819597244,-0.06672383844852448,-0.1910560429096222],[0.0,0.0,0.0,0.0,0.0,0.0,0.0,0.0,3.328314781188965,-0.1474468857049942,-0.1591252088546753,-0.00999299343675375,-0.05563190206885338,0.18085801601409912],[0.0,0.0,0.0,0.0,0.0,0.0,0.0,0.0,3.509718179702759,-0.17770880460739136,0.08327767997980118,-0.2114274799823761,-0.12330706417560577,-1.3649601936340332],[0.0,0.0,0.0,0.0,0.0,0.0,0.0,0.0,3.795229911804199,-0.0976131334900856,-0.49549993872642517,-0.22502073645591736,-0.097198985517025,-1.092955470085144],[0.0,0.0,0.0,0.0,0.0,0.0,0.0,0.0,1.4547125101089478,-0.09894991666078568,-0.04685676470398903,-0.026128584519028664,-0.14197269082069397,-0.49172335863113403],[0.0,0.0,0.0,0.0,0.0,0.0,0.0,0.0,0.9843529462814331,-0.03441985696554184,-0.13748259842395782,-0.08826392889022827,-0.13634265959262848,-0.3735050559043884],[0.0,0.0,0.0,0.0,0.0,0.0,0.0,0.0,0.4282471239566803,-0.03737223893404007,0.011637306772172451,-0.029417209327220917,-0.07085717469453812,-0.37932783365249634],[0.0,0.0,0.0,0.0,0.0,0.0,0.0,0.0,0.20223408937454224,0.0024070115759968758,-0.020022893324494362,-0.008943257853388786,-0.048193540424108505,1.0254853963851929],[0.0,0.0,0.0,0.0,0.0,0.0,0.0,0.0,0.2384786754846573,0.05639049783349037,-0.029696043580770493,-0.001828836859203875,-0.023623159155249596,0.08939976990222931],[0.0,0.0,0.0,0.0,0.0,0.0,0.0,0.0,0.24997657537460327,-0.005174869671463966,-0.0031082024797797203,-0.023647760972380638,-0.006064685061573982,0.6553468108177185],[0.0,0.0,0.0,0.0,0.0,0.0,0.0,0.0,-0.09687094390392303,0.015967467799782753,0.03233678638935089,-0.0075408765114843845,0.004904234781861305,0.6593940854072571],[0.0,0.0,0.0,0.0,0.0,0.0,0.0,0.0,0.22807973623275757,-0.03719181567430496,0.011559396982192993,-0.0032517211511731148,0.047201212495565414,0.1689910739660263],[0.0,0.0,0.0,0.0,0.0,0.0,0.0,0.0,0.08256419003009796,-0.006273812148720026,0.014655297622084618,0.02118334174156189,0.011288762092590332,1.1304548978805542],[0.0,0.0,0.0,0.0,0.0,0.0,0.0,0.0,-0.02694868855178356,-0.00099642900750041,0.01161270309239626,-0.002968784421682358,-0.0013408735394477844,0.536718487739563],[0.0,0.0,0.0,0.0,0.0,0.0,0.0,0.0,-0.03663414344191551,-0.007905823178589344,-0.002484921831637621,-0.003928308375179768,-0.009226194582879543,-0.15825589001178741],[0.0,0.0,0.0,0.0,0.0,0.0,0.0,0.0,0.1901703178882599,0.002747355727478862,0.006880691275000572,-0.0007503971573896706,0.0008447094005532563,0.15698471665382385],[0.0,0.0,0.0,0.0,0.0,0.0,0.0,0.0,-0.16021594405174255,0.01919458620250225,0.002698149299249053,-0.012637835927307606,-0.0024562180042266846,-1.1863820552825928],[0.0,0.0,0.0,0.0,0.0,0.0,0.0,0.0,-0.2815629541873932,0.03224657475948334,0.0027350541204214096,-0.009058072231709957,-0.03960292786359787,-3.156703233718872],[0.0,0.0,0.0,0.0,0.0,0.0,0.0,0.0,0.042493801563978195,-0.02342633344233036,0.0021240750793367624,0.015852652490139008,-0.00802063848823309,-2.760920286178589],[0.0,0.0,0.0,0.0,0.0,0.0,0.0,0.0,0.025382285937666893,-0.04757435992360115,0.017722494900226593,0.009705956093966961,0.014142731204628944,-3.263735294342041],[0.0,0.0,0.0,0.0,0.0,0.0,0.0,0.0,0.0,0.0,0.0,0.0,0.0,-3.5128512382507324]],\"type\":\"heatmap\",\"xaxis\":\"x3\",\"yaxis\":\"y3\",\"hovertemplate\":\"Sequence position: %{x}\\u003cbr\\u003eLayer: %{y}\\u003cbr\\u003eLogit diff variation: %{z}\\u003cextra\\u003e\\u003c\\u002fextra\\u003e\"}],                        {\"template\":{\"data\":{\"histogram2dcontour\":[{\"type\":\"histogram2dcontour\",\"colorbar\":{\"outlinewidth\":0,\"ticks\":\"\"},\"colorscale\":[[0.0,\"#0d0887\"],[0.1111111111111111,\"#46039f\"],[0.2222222222222222,\"#7201a8\"],[0.3333333333333333,\"#9c179e\"],[0.4444444444444444,\"#bd3786\"],[0.5555555555555556,\"#d8576b\"],[0.6666666666666666,\"#ed7953\"],[0.7777777777777778,\"#fb9f3a\"],[0.8888888888888888,\"#fdca26\"],[1.0,\"#f0f921\"]]}],\"choropleth\":[{\"type\":\"choropleth\",\"colorbar\":{\"outlinewidth\":0,\"ticks\":\"\"}}],\"histogram2d\":[{\"type\":\"histogram2d\",\"colorbar\":{\"outlinewidth\":0,\"ticks\":\"\"},\"colorscale\":[[0.0,\"#0d0887\"],[0.1111111111111111,\"#46039f\"],[0.2222222222222222,\"#7201a8\"],[0.3333333333333333,\"#9c179e\"],[0.4444444444444444,\"#bd3786\"],[0.5555555555555556,\"#d8576b\"],[0.6666666666666666,\"#ed7953\"],[0.7777777777777778,\"#fb9f3a\"],[0.8888888888888888,\"#fdca26\"],[1.0,\"#f0f921\"]]}],\"heatmap\":[{\"type\":\"heatmap\",\"colorbar\":{\"outlinewidth\":0,\"ticks\":\"\"},\"colorscale\":[[0.0,\"#0d0887\"],[0.1111111111111111,\"#46039f\"],[0.2222222222222222,\"#7201a8\"],[0.3333333333333333,\"#9c179e\"],[0.4444444444444444,\"#bd3786\"],[0.5555555555555556,\"#d8576b\"],[0.6666666666666666,\"#ed7953\"],[0.7777777777777778,\"#fb9f3a\"],[0.8888888888888888,\"#fdca26\"],[1.0,\"#f0f921\"]]}],\"heatmapgl\":[{\"type\":\"heatmapgl\",\"colorbar\":{\"outlinewidth\":0,\"ticks\":\"\"},\"colorscale\":[[0.0,\"#0d0887\"],[0.1111111111111111,\"#46039f\"],[0.2222222222222222,\"#7201a8\"],[0.3333333333333333,\"#9c179e\"],[0.4444444444444444,\"#bd3786\"],[0.5555555555555556,\"#d8576b\"],[0.6666666666666666,\"#ed7953\"],[0.7777777777777778,\"#fb9f3a\"],[0.8888888888888888,\"#fdca26\"],[1.0,\"#f0f921\"]]}],\"contourcarpet\":[{\"type\":\"contourcarpet\",\"colorbar\":{\"outlinewidth\":0,\"ticks\":\"\"}}],\"contour\":[{\"type\":\"contour\",\"colorbar\":{\"outlinewidth\":0,\"ticks\":\"\"},\"colorscale\":[[0.0,\"#0d0887\"],[0.1111111111111111,\"#46039f\"],[0.2222222222222222,\"#7201a8\"],[0.3333333333333333,\"#9c179e\"],[0.4444444444444444,\"#bd3786\"],[0.5555555555555556,\"#d8576b\"],[0.6666666666666666,\"#ed7953\"],[0.7777777777777778,\"#fb9f3a\"],[0.8888888888888888,\"#fdca26\"],[1.0,\"#f0f921\"]]}],\"surface\":[{\"type\":\"surface\",\"colorbar\":{\"outlinewidth\":0,\"ticks\":\"\"},\"colorscale\":[[0.0,\"#0d0887\"],[0.1111111111111111,\"#46039f\"],[0.2222222222222222,\"#7201a8\"],[0.3333333333333333,\"#9c179e\"],[0.4444444444444444,\"#bd3786\"],[0.5555555555555556,\"#d8576b\"],[0.6666666666666666,\"#ed7953\"],[0.7777777777777778,\"#fb9f3a\"],[0.8888888888888888,\"#fdca26\"],[1.0,\"#f0f921\"]]}],\"mesh3d\":[{\"type\":\"mesh3d\",\"colorbar\":{\"outlinewidth\":0,\"ticks\":\"\"}}],\"scatter\":[{\"fillpattern\":{\"fillmode\":\"overlay\",\"size\":10,\"solidity\":0.2},\"type\":\"scatter\"}],\"parcoords\":[{\"type\":\"parcoords\",\"line\":{\"colorbar\":{\"outlinewidth\":0,\"ticks\":\"\"}}}],\"scatterpolargl\":[{\"type\":\"scatterpolargl\",\"marker\":{\"colorbar\":{\"outlinewidth\":0,\"ticks\":\"\"}}}],\"bar\":[{\"error_x\":{\"color\":\"#2a3f5f\"},\"error_y\":{\"color\":\"#2a3f5f\"},\"marker\":{\"line\":{\"color\":\"#E5ECF6\",\"width\":0.5},\"pattern\":{\"fillmode\":\"overlay\",\"size\":10,\"solidity\":0.2}},\"type\":\"bar\"}],\"scattergeo\":[{\"type\":\"scattergeo\",\"marker\":{\"colorbar\":{\"outlinewidth\":0,\"ticks\":\"\"}}}],\"scatterpolar\":[{\"type\":\"scatterpolar\",\"marker\":{\"colorbar\":{\"outlinewidth\":0,\"ticks\":\"\"}}}],\"histogram\":[{\"marker\":{\"pattern\":{\"fillmode\":\"overlay\",\"size\":10,\"solidity\":0.2}},\"type\":\"histogram\"}],\"scattergl\":[{\"type\":\"scattergl\",\"marker\":{\"colorbar\":{\"outlinewidth\":0,\"ticks\":\"\"}}}],\"scatter3d\":[{\"type\":\"scatter3d\",\"line\":{\"colorbar\":{\"outlinewidth\":0,\"ticks\":\"\"}},\"marker\":{\"colorbar\":{\"outlinewidth\":0,\"ticks\":\"\"}}}],\"scattermapbox\":[{\"type\":\"scattermapbox\",\"marker\":{\"colorbar\":{\"outlinewidth\":0,\"ticks\":\"\"}}}],\"scatterternary\":[{\"type\":\"scatterternary\",\"marker\":{\"colorbar\":{\"outlinewidth\":0,\"ticks\":\"\"}}}],\"scattercarpet\":[{\"type\":\"scattercarpet\",\"marker\":{\"colorbar\":{\"outlinewidth\":0,\"ticks\":\"\"}}}],\"carpet\":[{\"aaxis\":{\"endlinecolor\":\"#2a3f5f\",\"gridcolor\":\"white\",\"linecolor\":\"white\",\"minorgridcolor\":\"white\",\"startlinecolor\":\"#2a3f5f\"},\"baxis\":{\"endlinecolor\":\"#2a3f5f\",\"gridcolor\":\"white\",\"linecolor\":\"white\",\"minorgridcolor\":\"white\",\"startlinecolor\":\"#2a3f5f\"},\"type\":\"carpet\"}],\"table\":[{\"cells\":{\"fill\":{\"color\":\"#EBF0F8\"},\"line\":{\"color\":\"white\"}},\"header\":{\"fill\":{\"color\":\"#C8D4E3\"},\"line\":{\"color\":\"white\"}},\"type\":\"table\"}],\"barpolar\":[{\"marker\":{\"line\":{\"color\":\"#E5ECF6\",\"width\":0.5},\"pattern\":{\"fillmode\":\"overlay\",\"size\":10,\"solidity\":0.2}},\"type\":\"barpolar\"}],\"pie\":[{\"automargin\":true,\"type\":\"pie\"}]},\"layout\":{\"autotypenumbers\":\"strict\",\"colorway\":[\"#636efa\",\"#EF553B\",\"#00cc96\",\"#ab63fa\",\"#FFA15A\",\"#19d3f3\",\"#FF6692\",\"#B6E880\",\"#FF97FF\",\"#FECB52\"],\"font\":{\"color\":\"#2a3f5f\"},\"hovermode\":\"closest\",\"hoverlabel\":{\"align\":\"left\"},\"paper_bgcolor\":\"white\",\"plot_bgcolor\":\"#E5ECF6\",\"polar\":{\"bgcolor\":\"#E5ECF6\",\"angularaxis\":{\"gridcolor\":\"white\",\"linecolor\":\"white\",\"ticks\":\"\"},\"radialaxis\":{\"gridcolor\":\"white\",\"linecolor\":\"white\",\"ticks\":\"\"}},\"ternary\":{\"bgcolor\":\"#E5ECF6\",\"aaxis\":{\"gridcolor\":\"white\",\"linecolor\":\"white\",\"ticks\":\"\"},\"baxis\":{\"gridcolor\":\"white\",\"linecolor\":\"white\",\"ticks\":\"\"},\"caxis\":{\"gridcolor\":\"white\",\"linecolor\":\"white\",\"ticks\":\"\"}},\"coloraxis\":{\"colorbar\":{\"outlinewidth\":0,\"ticks\":\"\"}},\"colorscale\":{\"sequential\":[[0.0,\"#0d0887\"],[0.1111111111111111,\"#46039f\"],[0.2222222222222222,\"#7201a8\"],[0.3333333333333333,\"#9c179e\"],[0.4444444444444444,\"#bd3786\"],[0.5555555555555556,\"#d8576b\"],[0.6666666666666666,\"#ed7953\"],[0.7777777777777778,\"#fb9f3a\"],[0.8888888888888888,\"#fdca26\"],[1.0,\"#f0f921\"]],\"sequentialminus\":[[0.0,\"#0d0887\"],[0.1111111111111111,\"#46039f\"],[0.2222222222222222,\"#7201a8\"],[0.3333333333333333,\"#9c179e\"],[0.4444444444444444,\"#bd3786\"],[0.5555555555555556,\"#d8576b\"],[0.6666666666666666,\"#ed7953\"],[0.7777777777777778,\"#fb9f3a\"],[0.8888888888888888,\"#fdca26\"],[1.0,\"#f0f921\"]],\"diverging\":[[0,\"#8e0152\"],[0.1,\"#c51b7d\"],[0.2,\"#de77ae\"],[0.3,\"#f1b6da\"],[0.4,\"#fde0ef\"],[0.5,\"#f7f7f7\"],[0.6,\"#e6f5d0\"],[0.7,\"#b8e186\"],[0.8,\"#7fbc41\"],[0.9,\"#4d9221\"],[1,\"#276419\"]]},\"xaxis\":{\"gridcolor\":\"white\",\"linecolor\":\"white\",\"ticks\":\"\",\"title\":{\"standoff\":15},\"zerolinecolor\":\"white\",\"automargin\":true,\"zerolinewidth\":2},\"yaxis\":{\"gridcolor\":\"white\",\"linecolor\":\"white\",\"ticks\":\"\",\"title\":{\"standoff\":15},\"zerolinecolor\":\"white\",\"automargin\":true,\"zerolinewidth\":2},\"scene\":{\"xaxis\":{\"backgroundcolor\":\"#E5ECF6\",\"gridcolor\":\"white\",\"linecolor\":\"white\",\"showbackground\":true,\"ticks\":\"\",\"zerolinecolor\":\"white\",\"gridwidth\":2},\"yaxis\":{\"backgroundcolor\":\"#E5ECF6\",\"gridcolor\":\"white\",\"linecolor\":\"white\",\"showbackground\":true,\"ticks\":\"\",\"zerolinecolor\":\"white\",\"gridwidth\":2},\"zaxis\":{\"backgroundcolor\":\"#E5ECF6\",\"gridcolor\":\"white\",\"linecolor\":\"white\",\"showbackground\":true,\"ticks\":\"\",\"zerolinecolor\":\"white\",\"gridwidth\":2}},\"shapedefaults\":{\"line\":{\"color\":\"#2a3f5f\"}},\"annotationdefaults\":{\"arrowcolor\":\"#2a3f5f\",\"arrowhead\":0,\"arrowwidth\":1},\"geo\":{\"bgcolor\":\"white\",\"landcolor\":\"#E5ECF6\",\"subunitcolor\":\"white\",\"showland\":true,\"showlakes\":true,\"lakecolor\":\"white\"},\"title\":{\"x\":0.05},\"mapbox\":{\"style\":\"light\"}}},\"xaxis\":{\"anchor\":\"y\",\"domain\":[0.0,0.31999999999999995],\"scaleanchor\":\"y\",\"constrain\":\"domain\",\"title\":{\"text\":\"Sequence position\"},\"showline\":true,\"linewidth\":1,\"linecolor\":\"black\",\"mirror\":true,\"tickangle\":45},\"yaxis\":{\"anchor\":\"x\",\"domain\":[0.0,1.0],\"autorange\":\"reversed\",\"constrain\":\"domain\",\"title\":{\"text\":\"Layer\"},\"showline\":true,\"linewidth\":1,\"linecolor\":\"black\",\"mirror\":true},\"xaxis2\":{\"anchor\":\"y2\",\"domain\":[0.33999999999999997,0.6599999999999999],\"matches\":\"x\",\"title\":{\"text\":\"Sequence position\"},\"showline\":true,\"linewidth\":1,\"linecolor\":\"black\",\"mirror\":true,\"tickangle\":45},\"yaxis2\":{\"anchor\":\"x2\",\"domain\":[0.0,1.0],\"matches\":\"y\",\"showticklabels\":false,\"showline\":true,\"linewidth\":1,\"linecolor\":\"black\",\"mirror\":true},\"xaxis3\":{\"anchor\":\"y3\",\"domain\":[0.6799999999999999,0.9999999999999999],\"matches\":\"x\",\"title\":{\"text\":\"Sequence position\"},\"showline\":true,\"linewidth\":1,\"linecolor\":\"black\",\"mirror\":true,\"tickangle\":45},\"yaxis3\":{\"anchor\":\"x3\",\"domain\":[0.0,1.0],\"matches\":\"y\",\"showticklabels\":false,\"showline\":true,\"linewidth\":1,\"linecolor\":\"black\",\"mirror\":true},\"annotations\":[{\"font\":{},\"showarrow\":false,\"text\":\"resid_pre\",\"x\":0.15999999999999998,\"xanchor\":\"center\",\"xref\":\"paper\",\"y\":1.0,\"yanchor\":\"bottom\",\"yref\":\"paper\"},{\"font\":{},\"showarrow\":false,\"text\":\"attn_out\",\"x\":0.49999999999999994,\"xanchor\":\"center\",\"xref\":\"paper\",\"y\":1.0,\"yanchor\":\"bottom\",\"yref\":\"paper\"},{\"font\":{},\"showarrow\":false,\"text\":\"mlp_out\",\"x\":0.8399999999999999,\"xanchor\":\"center\",\"xref\":\"paper\",\"y\":1.0,\"yanchor\":\"bottom\",\"yref\":\"paper\"}],\"coloraxis\":{\"colorbar\":{\"title\":{\"text\":\"Logit diff variation\"},\"ticksuffix\":\"%\"},\"colorscale\":[[0.0,\"rgb(103,0,31)\"],[0.1,\"rgb(178,24,43)\"],[0.2,\"rgb(214,96,77)\"],[0.3,\"rgb(244,165,130)\"],[0.4,\"rgb(253,219,199)\"],[0.5,\"rgb(247,247,247)\"],[0.6,\"rgb(209,229,240)\"],[0.7,\"rgb(146,197,222)\"],[0.8,\"rgb(67,147,195)\"],[0.9,\"rgb(33,102,172)\"],[1.0,\"rgb(5,48,97)\"]],\"cmid\":0.0},\"title\":{\"text\":\"Patching at resid stream & layer outputs (corrupted -\\u003e clean)\"},\"height\":600,\"width\":1500,\"margin\":{\"r\":100,\"l\":100}},                        {\"responsive\": true}                    ).then(function(){\n",
       "                            \n",
       "var gd = document.getElementById('f71f32b3-9980-4c5b-bf6c-0a56a3ad405c');\n",
       "var x = new MutationObserver(function (mutations, observer) {{\n",
       "        var display = window.getComputedStyle(gd).display;\n",
       "        if (!display || display === 'none') {{\n",
       "            console.log([gd, 'removed!']);\n",
       "            Plotly.purge(gd);\n",
       "            observer.disconnect();\n",
       "        }}\n",
       "}});\n",
       "\n",
       "// Listen for the removal of the full notebook cells\n",
       "var notebookContainer = gd.closest('#notebook-container');\n",
       "if (notebookContainer) {{\n",
       "    x.observe(notebookContainer, {childList: true});\n",
       "}}\n",
       "\n",
       "// Listen for the clearing of the current output cell\n",
       "var outputEl = gd.closest('.output');\n",
       "if (outputEl) {{\n",
       "    x.observe(outputEl, {childList: true});\n",
       "}}\n",
       "\n",
       "                        })                };                });            </script>        </div>"
      ]
     },
     "metadata": {},
     "output_type": "display_data"
    }
   ],
   "source": [
    "with open(\"results/tensors/2_8b_comma_test/content_act_patch_resid_layer_output.pkl\", \"rb\") as f:\n",
    "    act_patch_resid_layer_output = pickle.load(f)\n",
    "\n",
    "assert act_patch_resid_layer_output.keys() == {\"resid_pre\", \"attn_out\", \"mlp_out\"}\n",
    "labels = [f\"{tok} {i}\" for i, tok in enumerate(model.to_str_tokens(dataset.prompt_tokens[0]))]\n",
    "imshow_p(\n",
    "    torch.stack([r.T for r in act_patch_resid_layer_output.values()]) * 100, # we transpose so layer is on the y-axis\n",
    "    facet_col=0,\n",
    "    facet_labels=[\"resid_pre\", \"attn_out\", \"mlp_out\"],\n",
    "    title=\"Patching at resid stream & layer outputs (corrupted -> clean)\",\n",
    "    labels={\"x\": \"Sequence position\", \"y\": \"Layer\", \"color\": \"Logit diff variation\"},\n",
    "    x=labels,\n",
    "    xaxis_tickangle=45,\n",
    "    coloraxis=dict(colorbar_ticksuffix = \"%\"),\n",
    "    border=True,\n",
    "    width=1500,\n",
    "    height=600,\n",
    "    margin={\"r\": 100, \"l\": 100}\n",
    ")"
   ]
  },
  {
   "cell_type": "code",
   "execution_count": null,
   "id": "8082618f",
   "metadata": {},
   "outputs": [],
   "source": []
  }
 ],
 "metadata": {
  "jupytext": {
   "cell_metadata_filter": "-all",
   "custom_cell_magics": "kql"
  },
  "kernelspec": {
   "display_name": "Python 3 (ipykernel)",
   "language": "python",
   "name": "python3"
  }
 },
 "nbformat": 4,
 "nbformat_minor": 5
}
